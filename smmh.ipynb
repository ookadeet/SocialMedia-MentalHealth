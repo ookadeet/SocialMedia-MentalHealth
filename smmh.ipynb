{
  "nbformat": 4,
  "nbformat_minor": 0,
  "metadata": {
    "colab": {
      "provenance": [],
      "toc_visible": true,
      "collapsed_sections": [
        "jtaoNOANk0AT",
        "EdKnl_PzlTef",
        "itUbM_rutEvV",
        "-HkpIFxPtWXv"
      ],
      "authorship_tag": "ABX9TyNDvguynegTn4T6jsCtmsKo",
      "include_colab_link": true
    },
    "kernelspec": {
      "name": "python3",
      "display_name": "Python 3"
    },
    "language_info": {
      "name": "python"
    }
  },
  "cells": [
    {
      "cell_type": "markdown",
      "metadata": {
        "id": "view-in-github",
        "colab_type": "text"
      },
      "source": [
        "<a href=\"https://colab.research.google.com/github/ookadeet/dspp1/blob/main/smmh.ipynb\" target=\"_parent\"><img src=\"https://colab.research.google.com/assets/colab-badge.svg\" alt=\"Open In Colab\"/></a>"
      ]
    },
    {
      "cell_type": "markdown",
      "source": [
        "#Social Media, The Attention Economy, and Mental Health\n",
        "This project uses [this publicly available dataset](https://www.kaggle.com/datasets/souvikahmed071/social-media-and-mental-health) to gauge the impact of time spent on social media, and the platforms used, on mental health outcomes."
      ],
      "metadata": {
        "id": "TXzeKZ2WTdGq"
      }
    },
    {
      "cell_type": "markdown",
      "source": [
        "# Data Cleaning and Transformation"
      ],
      "metadata": {
        "id": "j0_pjDyJD82u"
      }
    },
    {
      "cell_type": "markdown",
      "source": [
        "##Importing libraries and data"
      ],
      "metadata": {
        "id": "jtaoNOANk0AT"
      }
    },
    {
      "cell_type": "code",
      "execution_count": 1,
      "metadata": {
        "id": "Ki4OJXou1XaI"
      },
      "outputs": [],
      "source": [
        "#Import packages\n",
        "import pandas as pd\n",
        "import numpy as np\n",
        "import sklearn as sk\n",
        "import matplotlib.pyplot as plt\n",
        "import seaborn as sb"
      ]
    },
    {
      "cell_type": "code",
      "source": [
        "#Import data\n",
        "from google.colab import drive\n",
        "drive.mount('/content/drive', force_remount=True)\n",
        "path='/content/drive/My Drive/Colab Notebooks/data/smmh.xlsx'\n",
        "df = pd.read_excel(path)"
      ],
      "metadata": {
        "colab": {
          "base_uri": "https://localhost:8080/"
        },
        "id": "SV2gecq86YIY",
        "outputId": "49f11e1d-7bfb-442d-f916-dfc965d55e05"
      },
      "execution_count": 2,
      "outputs": [
        {
          "output_type": "stream",
          "name": "stdout",
          "text": [
            "Mounted at /content/drive\n"
          ]
        }
      ]
    },
    {
      "cell_type": "code",
      "source": [
        "#Explore layout of datafile\n",
        "df.head()"
      ],
      "metadata": {
        "colab": {
          "base_uri": "https://localhost:8080/",
          "height": 786
        },
        "id": "KqtOlauC_8a4",
        "outputId": "8d16d9bc-9142-4d25-d6b5-2ab6cf926f2c"
      },
      "execution_count": 3,
      "outputs": [
        {
          "output_type": "execute_result",
          "data": {
            "text/plain": [
              "                     Timestamp  1. What is your age? 2. Gender  \\\n",
              "0  2022/04/18 7:18:47 PM GMT+6                  21.0      Male   \n",
              "1  2022/04/18 7:19:28 PM GMT+6                  21.0    Female   \n",
              "2  2022/04/18 7:25:58 PM GMT+6                  21.0    Female   \n",
              "3  2022/04/18 7:29:43 PM GMT+6                  21.0    Female   \n",
              "4  2022/04/18 7:33:31 PM GMT+6                  21.0    Female   \n",
              "\n",
              "  3. Relationship Status 4. Occupation Status  \\\n",
              "0      In a relationship   University Student   \n",
              "1                 Single   University Student   \n",
              "2                 Single   University Student   \n",
              "3                 Single   University Student   \n",
              "4                 Single   University Student   \n",
              "\n",
              "  5. What type of organizations are you affiliated with?  \\\n",
              "0                                         University       \n",
              "1                                         University       \n",
              "2                                         University       \n",
              "3                                         University       \n",
              "4                                         University       \n",
              "\n",
              "  6. Do you use social media?  \\\n",
              "0                         Yes   \n",
              "1                         Yes   \n",
              "2                         Yes   \n",
              "3                         Yes   \n",
              "4                         Yes   \n",
              "\n",
              "  7. What social media platforms do you commonly use?  \\\n",
              "0  Facebook;Twitter;Instagram;YouTube;Discord;Reddit    \n",
              "1  Facebook;Twitter;Instagram;YouTube;Discord;Reddit    \n",
              "2               Facebook;Instagram;YouTube;Pinterest    \n",
              "3                                 Facebook;Instagram    \n",
              "4                         Facebook;Instagram;YouTube    \n",
              "\n",
              "  8. What is the average time you spend on social media every day?  \\\n",
              "0                              Between 2 and 3 hours                 \n",
              "1                                  More than 5 hours                 \n",
              "2                              Between 3 and 4 hours                 \n",
              "3                                  More than 5 hours                 \n",
              "4                              Between 2 and 3 hours                 \n",
              "\n",
              "   9. How often do you find yourself using Social media without a specific purpose?  \\\n",
              "0                                                  5                                  \n",
              "1                                                  4                                  \n",
              "2                                                  3                                  \n",
              "3                                                  4                                  \n",
              "4                                                  3                                  \n",
              "\n",
              "   ...  11. Do you feel restless if you haven't used Social media in a while?  \\\n",
              "0  ...                                                  2                       \n",
              "1  ...                                                  2                       \n",
              "2  ...                                                  1                       \n",
              "3  ...                                                  1                       \n",
              "4  ...                                                  4                       \n",
              "\n",
              "   12. On a scale of 1 to 5, how easily distracted are you?  \\\n",
              "0                                                  5          \n",
              "1                                                  4          \n",
              "2                                                  2          \n",
              "3                                                  3          \n",
              "4                                                  4          \n",
              "\n",
              "   13. On a scale of 1 to 5, how much are you bothered by worries?  \\\n",
              "0                                                  2                 \n",
              "1                                                  5                 \n",
              "2                                                  5                 \n",
              "3                                                  5                 \n",
              "4                                                  5                 \n",
              "\n",
              "   14. Do you find it difficult to concentrate on things?  \\\n",
              "0                                                  5        \n",
              "1                                                  4        \n",
              "2                                                  4        \n",
              "3                                                  3        \n",
              "4                                                  5        \n",
              "\n",
              "   15. On a scale of 1-5, how often do you compare yourself to other successful people through the use of social media?  \\\n",
              "0                                                  2                                                                      \n",
              "1                                                  5                                                                      \n",
              "2                                                  3                                                                      \n",
              "3                                                  5                                                                      \n",
              "4                                                  3                                                                      \n",
              "\n",
              "   16. Following the previous question, how do you feel about these comparisons, generally speaking?  \\\n",
              "0                                                  3                                                   \n",
              "1                                                  1                                                   \n",
              "2                                                  3                                                   \n",
              "3                                                  1                                                   \n",
              "4                                                  3                                                   \n",
              "\n",
              "   17. How often do you look to seek validation from features of social media?  \\\n",
              "0                                                  2                             \n",
              "1                                                  1                             \n",
              "2                                                  1                             \n",
              "3                                                  2                             \n",
              "4                                                  3                             \n",
              "\n",
              "   18. How often do you feel depressed or down?  \\\n",
              "0                                             5   \n",
              "1                                             5   \n",
              "2                                             4   \n",
              "3                                             4   \n",
              "4                                             4   \n",
              "\n",
              "   19. On a scale of 1 to 5, how frequently does your interest in daily activities fluctuate?  \\\n",
              "0                                                  4                                            \n",
              "1                                                  4                                            \n",
              "2                                                  2                                            \n",
              "3                                                  3                                            \n",
              "4                                                  4                                            \n",
              "\n",
              "   20. On a scale of 1 to 5, how often do you face issues regarding sleep?  \n",
              "0                                                  5                        \n",
              "1                                                  5                        \n",
              "2                                                  5                        \n",
              "3                                                  2                        \n",
              "4                                                  1                        \n",
              "\n",
              "[5 rows x 21 columns]"
            ],
            "text/html": [
              "\n",
              "\n",
              "  <div id=\"df-425e0145-fbdf-4649-9762-092f89f1b7be\">\n",
              "    <div class=\"colab-df-container\">\n",
              "      <div>\n",
              "<style scoped>\n",
              "    .dataframe tbody tr th:only-of-type {\n",
              "        vertical-align: middle;\n",
              "    }\n",
              "\n",
              "    .dataframe tbody tr th {\n",
              "        vertical-align: top;\n",
              "    }\n",
              "\n",
              "    .dataframe thead th {\n",
              "        text-align: right;\n",
              "    }\n",
              "</style>\n",
              "<table border=\"1\" class=\"dataframe\">\n",
              "  <thead>\n",
              "    <tr style=\"text-align: right;\">\n",
              "      <th></th>\n",
              "      <th>Timestamp</th>\n",
              "      <th>1. What is your age?</th>\n",
              "      <th>2. Gender</th>\n",
              "      <th>3. Relationship Status</th>\n",
              "      <th>4. Occupation Status</th>\n",
              "      <th>5. What type of organizations are you affiliated with?</th>\n",
              "      <th>6. Do you use social media?</th>\n",
              "      <th>7. What social media platforms do you commonly use?</th>\n",
              "      <th>8. What is the average time you spend on social media every day?</th>\n",
              "      <th>9. How often do you find yourself using Social media without a specific purpose?</th>\n",
              "      <th>...</th>\n",
              "      <th>11. Do you feel restless if you haven't used Social media in a while?</th>\n",
              "      <th>12. On a scale of 1 to 5, how easily distracted are you?</th>\n",
              "      <th>13. On a scale of 1 to 5, how much are you bothered by worries?</th>\n",
              "      <th>14. Do you find it difficult to concentrate on things?</th>\n",
              "      <th>15. On a scale of 1-5, how often do you compare yourself to other successful people through the use of social media?</th>\n",
              "      <th>16. Following the previous question, how do you feel about these comparisons, generally speaking?</th>\n",
              "      <th>17. How often do you look to seek validation from features of social media?</th>\n",
              "      <th>18. How often do you feel depressed or down?</th>\n",
              "      <th>19. On a scale of 1 to 5, how frequently does your interest in daily activities fluctuate?</th>\n",
              "      <th>20. On a scale of 1 to 5, how often do you face issues regarding sleep?</th>\n",
              "    </tr>\n",
              "  </thead>\n",
              "  <tbody>\n",
              "    <tr>\n",
              "      <th>0</th>\n",
              "      <td>2022/04/18 7:18:47 PM GMT+6</td>\n",
              "      <td>21.0</td>\n",
              "      <td>Male</td>\n",
              "      <td>In a relationship</td>\n",
              "      <td>University Student</td>\n",
              "      <td>University</td>\n",
              "      <td>Yes</td>\n",
              "      <td>Facebook;Twitter;Instagram;YouTube;Discord;Reddit</td>\n",
              "      <td>Between 2 and 3 hours</td>\n",
              "      <td>5</td>\n",
              "      <td>...</td>\n",
              "      <td>2</td>\n",
              "      <td>5</td>\n",
              "      <td>2</td>\n",
              "      <td>5</td>\n",
              "      <td>2</td>\n",
              "      <td>3</td>\n",
              "      <td>2</td>\n",
              "      <td>5</td>\n",
              "      <td>4</td>\n",
              "      <td>5</td>\n",
              "    </tr>\n",
              "    <tr>\n",
              "      <th>1</th>\n",
              "      <td>2022/04/18 7:19:28 PM GMT+6</td>\n",
              "      <td>21.0</td>\n",
              "      <td>Female</td>\n",
              "      <td>Single</td>\n",
              "      <td>University Student</td>\n",
              "      <td>University</td>\n",
              "      <td>Yes</td>\n",
              "      <td>Facebook;Twitter;Instagram;YouTube;Discord;Reddit</td>\n",
              "      <td>More than 5 hours</td>\n",
              "      <td>4</td>\n",
              "      <td>...</td>\n",
              "      <td>2</td>\n",
              "      <td>4</td>\n",
              "      <td>5</td>\n",
              "      <td>4</td>\n",
              "      <td>5</td>\n",
              "      <td>1</td>\n",
              "      <td>1</td>\n",
              "      <td>5</td>\n",
              "      <td>4</td>\n",
              "      <td>5</td>\n",
              "    </tr>\n",
              "    <tr>\n",
              "      <th>2</th>\n",
              "      <td>2022/04/18 7:25:58 PM GMT+6</td>\n",
              "      <td>21.0</td>\n",
              "      <td>Female</td>\n",
              "      <td>Single</td>\n",
              "      <td>University Student</td>\n",
              "      <td>University</td>\n",
              "      <td>Yes</td>\n",
              "      <td>Facebook;Instagram;YouTube;Pinterest</td>\n",
              "      <td>Between 3 and 4 hours</td>\n",
              "      <td>3</td>\n",
              "      <td>...</td>\n",
              "      <td>1</td>\n",
              "      <td>2</td>\n",
              "      <td>5</td>\n",
              "      <td>4</td>\n",
              "      <td>3</td>\n",
              "      <td>3</td>\n",
              "      <td>1</td>\n",
              "      <td>4</td>\n",
              "      <td>2</td>\n",
              "      <td>5</td>\n",
              "    </tr>\n",
              "    <tr>\n",
              "      <th>3</th>\n",
              "      <td>2022/04/18 7:29:43 PM GMT+6</td>\n",
              "      <td>21.0</td>\n",
              "      <td>Female</td>\n",
              "      <td>Single</td>\n",
              "      <td>University Student</td>\n",
              "      <td>University</td>\n",
              "      <td>Yes</td>\n",
              "      <td>Facebook;Instagram</td>\n",
              "      <td>More than 5 hours</td>\n",
              "      <td>4</td>\n",
              "      <td>...</td>\n",
              "      <td>1</td>\n",
              "      <td>3</td>\n",
              "      <td>5</td>\n",
              "      <td>3</td>\n",
              "      <td>5</td>\n",
              "      <td>1</td>\n",
              "      <td>2</td>\n",
              "      <td>4</td>\n",
              "      <td>3</td>\n",
              "      <td>2</td>\n",
              "    </tr>\n",
              "    <tr>\n",
              "      <th>4</th>\n",
              "      <td>2022/04/18 7:33:31 PM GMT+6</td>\n",
              "      <td>21.0</td>\n",
              "      <td>Female</td>\n",
              "      <td>Single</td>\n",
              "      <td>University Student</td>\n",
              "      <td>University</td>\n",
              "      <td>Yes</td>\n",
              "      <td>Facebook;Instagram;YouTube</td>\n",
              "      <td>Between 2 and 3 hours</td>\n",
              "      <td>3</td>\n",
              "      <td>...</td>\n",
              "      <td>4</td>\n",
              "      <td>4</td>\n",
              "      <td>5</td>\n",
              "      <td>5</td>\n",
              "      <td>3</td>\n",
              "      <td>3</td>\n",
              "      <td>3</td>\n",
              "      <td>4</td>\n",
              "      <td>4</td>\n",
              "      <td>1</td>\n",
              "    </tr>\n",
              "  </tbody>\n",
              "</table>\n",
              "<p>5 rows × 21 columns</p>\n",
              "</div>\n",
              "      <button class=\"colab-df-convert\" onclick=\"convertToInteractive('df-425e0145-fbdf-4649-9762-092f89f1b7be')\"\n",
              "              title=\"Convert this dataframe to an interactive table.\"\n",
              "              style=\"display:none;\">\n",
              "\n",
              "  <svg xmlns=\"http://www.w3.org/2000/svg\" height=\"24px\"viewBox=\"0 0 24 24\"\n",
              "       width=\"24px\">\n",
              "    <path d=\"M0 0h24v24H0V0z\" fill=\"none\"/>\n",
              "    <path d=\"M18.56 5.44l.94 2.06.94-2.06 2.06-.94-2.06-.94-.94-2.06-.94 2.06-2.06.94zm-11 1L8.5 8.5l.94-2.06 2.06-.94-2.06-.94L8.5 2.5l-.94 2.06-2.06.94zm10 10l.94 2.06.94-2.06 2.06-.94-2.06-.94-.94-2.06-.94 2.06-2.06.94z\"/><path d=\"M17.41 7.96l-1.37-1.37c-.4-.4-.92-.59-1.43-.59-.52 0-1.04.2-1.43.59L10.3 9.45l-7.72 7.72c-.78.78-.78 2.05 0 2.83L4 21.41c.39.39.9.59 1.41.59.51 0 1.02-.2 1.41-.59l7.78-7.78 2.81-2.81c.8-.78.8-2.07 0-2.86zM5.41 20L4 18.59l7.72-7.72 1.47 1.35L5.41 20z\"/>\n",
              "  </svg>\n",
              "      </button>\n",
              "\n",
              "\n",
              "\n",
              "    <div id=\"df-3227d687-2b2d-4519-aa62-0f4a97a1f253\">\n",
              "      <button class=\"colab-df-quickchart\" onclick=\"quickchart('df-3227d687-2b2d-4519-aa62-0f4a97a1f253')\"\n",
              "              title=\"Suggest charts.\"\n",
              "              style=\"display:none;\">\n",
              "\n",
              "<svg xmlns=\"http://www.w3.org/2000/svg\" height=\"24px\"viewBox=\"0 0 24 24\"\n",
              "     width=\"24px\">\n",
              "    <g>\n",
              "        <path d=\"M19 3H5c-1.1 0-2 .9-2 2v14c0 1.1.9 2 2 2h14c1.1 0 2-.9 2-2V5c0-1.1-.9-2-2-2zM9 17H7v-7h2v7zm4 0h-2V7h2v10zm4 0h-2v-4h2v4z\"/>\n",
              "    </g>\n",
              "</svg>\n",
              "      </button>\n",
              "    </div>\n",
              "\n",
              "<style>\n",
              "  .colab-df-quickchart {\n",
              "    background-color: #E8F0FE;\n",
              "    border: none;\n",
              "    border-radius: 50%;\n",
              "    cursor: pointer;\n",
              "    display: none;\n",
              "    fill: #1967D2;\n",
              "    height: 32px;\n",
              "    padding: 0 0 0 0;\n",
              "    width: 32px;\n",
              "  }\n",
              "\n",
              "  .colab-df-quickchart:hover {\n",
              "    background-color: #E2EBFA;\n",
              "    box-shadow: 0px 1px 2px rgba(60, 64, 67, 0.3), 0px 1px 3px 1px rgba(60, 64, 67, 0.15);\n",
              "    fill: #174EA6;\n",
              "  }\n",
              "\n",
              "  [theme=dark] .colab-df-quickchart {\n",
              "    background-color: #3B4455;\n",
              "    fill: #D2E3FC;\n",
              "  }\n",
              "\n",
              "  [theme=dark] .colab-df-quickchart:hover {\n",
              "    background-color: #434B5C;\n",
              "    box-shadow: 0px 1px 3px 1px rgba(0, 0, 0, 0.15);\n",
              "    filter: drop-shadow(0px 1px 2px rgba(0, 0, 0, 0.3));\n",
              "    fill: #FFFFFF;\n",
              "  }\n",
              "</style>\n",
              "\n",
              "    <script>\n",
              "      async function quickchart(key) {\n",
              "        const containerElement = document.querySelector('#' + key);\n",
              "        const charts = await google.colab.kernel.invokeFunction(\n",
              "            'suggestCharts', [key], {});\n",
              "      }\n",
              "    </script>\n",
              "\n",
              "      <script>\n",
              "\n",
              "function displayQuickchartButton(domScope) {\n",
              "  let quickchartButtonEl =\n",
              "    domScope.querySelector('#df-3227d687-2b2d-4519-aa62-0f4a97a1f253 button.colab-df-quickchart');\n",
              "  quickchartButtonEl.style.display =\n",
              "    google.colab.kernel.accessAllowed ? 'block' : 'none';\n",
              "}\n",
              "\n",
              "        displayQuickchartButton(document);\n",
              "      </script>\n",
              "      <style>\n",
              "    .colab-df-container {\n",
              "      display:flex;\n",
              "      flex-wrap:wrap;\n",
              "      gap: 12px;\n",
              "    }\n",
              "\n",
              "    .colab-df-convert {\n",
              "      background-color: #E8F0FE;\n",
              "      border: none;\n",
              "      border-radius: 50%;\n",
              "      cursor: pointer;\n",
              "      display: none;\n",
              "      fill: #1967D2;\n",
              "      height: 32px;\n",
              "      padding: 0 0 0 0;\n",
              "      width: 32px;\n",
              "    }\n",
              "\n",
              "    .colab-df-convert:hover {\n",
              "      background-color: #E2EBFA;\n",
              "      box-shadow: 0px 1px 2px rgba(60, 64, 67, 0.3), 0px 1px 3px 1px rgba(60, 64, 67, 0.15);\n",
              "      fill: #174EA6;\n",
              "    }\n",
              "\n",
              "    [theme=dark] .colab-df-convert {\n",
              "      background-color: #3B4455;\n",
              "      fill: #D2E3FC;\n",
              "    }\n",
              "\n",
              "    [theme=dark] .colab-df-convert:hover {\n",
              "      background-color: #434B5C;\n",
              "      box-shadow: 0px 1px 3px 1px rgba(0, 0, 0, 0.15);\n",
              "      filter: drop-shadow(0px 1px 2px rgba(0, 0, 0, 0.3));\n",
              "      fill: #FFFFFF;\n",
              "    }\n",
              "  </style>\n",
              "\n",
              "      <script>\n",
              "        const buttonEl =\n",
              "          document.querySelector('#df-425e0145-fbdf-4649-9762-092f89f1b7be button.colab-df-convert');\n",
              "        buttonEl.style.display =\n",
              "          google.colab.kernel.accessAllowed ? 'block' : 'none';\n",
              "\n",
              "        async function convertToInteractive(key) {\n",
              "          const element = document.querySelector('#df-425e0145-fbdf-4649-9762-092f89f1b7be');\n",
              "          const dataTable =\n",
              "            await google.colab.kernel.invokeFunction('convertToInteractive',\n",
              "                                                     [key], {});\n",
              "          if (!dataTable) return;\n",
              "\n",
              "          const docLinkHtml = 'Like what you see? Visit the ' +\n",
              "            '<a target=\"_blank\" href=https://colab.research.google.com/notebooks/data_table.ipynb>data table notebook</a>'\n",
              "            + ' to learn more about interactive tables.';\n",
              "          element.innerHTML = '';\n",
              "          dataTable['output_type'] = 'display_data';\n",
              "          await google.colab.output.renderOutput(dataTable, element);\n",
              "          const docLink = document.createElement('div');\n",
              "          docLink.innerHTML = docLinkHtml;\n",
              "          element.appendChild(docLink);\n",
              "        }\n",
              "      </script>\n",
              "    </div>\n",
              "  </div>\n"
            ]
          },
          "metadata": {},
          "execution_count": 3
        }
      ]
    },
    {
      "cell_type": "markdown",
      "source": [
        "##Renaming and dropping columns"
      ],
      "metadata": {
        "id": "EdKnl_PzlTef"
      }
    },
    {
      "cell_type": "code",
      "source": [
        "#Print column names in order to copy and paste into code for renaming\n",
        "for col in df.columns:\n",
        "    print(col)"
      ],
      "metadata": {
        "colab": {
          "base_uri": "https://localhost:8080/"
        },
        "id": "vlETy5VTAQBs",
        "outputId": "56837aed-b921-4c64-c8be-3815bc8efad2"
      },
      "execution_count": 4,
      "outputs": [
        {
          "output_type": "stream",
          "name": "stdout",
          "text": [
            "Timestamp\n",
            "1. What is your age?\n",
            "2. Gender\n",
            "3. Relationship Status\n",
            "4. Occupation Status\n",
            "5. What type of organizations are you affiliated with?\n",
            "6. Do you use social media?\n",
            "7. What social media platforms do you commonly use?\n",
            "8. What is the average time you spend on social media every day?\n",
            "9. How often do you find yourself using Social media without a specific purpose?\n",
            "10. How often do you get distracted by Social media when you are busy doing something?\n",
            "11. Do you feel restless if you haven't used Social media in a while?\n",
            "12. On a scale of 1 to 5, how easily distracted are you?\n",
            "13. On a scale of 1 to 5, how much are you bothered by worries?\n",
            "14. Do you find it difficult to concentrate on things?\n",
            "15. On a scale of 1-5, how often do you compare yourself to other successful people through the use of social media?\n",
            "16. Following the previous question, how do you feel about these comparisons, generally speaking?\n",
            "17. How often do you look to seek validation from features of social media?\n",
            "18. How often do you feel depressed or down?\n",
            "19. On a scale of 1 to 5, how frequently does your interest in daily activities fluctuate?\n",
            "20. On a scale of 1 to 5, how often do you face issues regarding sleep?\n"
          ]
        }
      ]
    },
    {
      "cell_type": "code",
      "source": [
        "print(df['5. What type of organizations are you affiliated with?'].unique())"
      ],
      "metadata": {
        "colab": {
          "base_uri": "https://localhost:8080/"
        },
        "id": "Z3_ViqFor4Nv",
        "outputId": "ff4f8968-3f06-4d0a-c9e3-06ebbb8b7922"
      },
      "execution_count": 5,
      "outputs": [
        {
          "output_type": "stream",
          "name": "stdout",
          "text": [
            "['University' 'Private' nan 'School;University' 'Company' 'School;Private'\n",
            " 'University;Company' 'Goverment' 'Company;Private' 'School'\n",
            " 'University;Goverment;Private' 'University;Company;Private'\n",
            " 'University;Private' 'University;N/A' 'School;University;Private'\n",
            " 'University;Goverment' 'University;Company;Goverment' 'School;Company'\n",
            " 'School;N/A']\n"
          ]
        }
      ]
    },
    {
      "cell_type": "markdown",
      "source": [
        "Neither the timstamp nor affiliated organisation columns are deemed necessary for the analysis as the timestamp only records when answers were captured, while the affiliated organisations column has rows that contain multiple answers"
      ],
      "metadata": {
        "id": "AbP1MbmXsfWB"
      }
    },
    {
      "cell_type": "code",
      "source": [
        "#Drop columns not needed for analysis\n",
        "df = df.drop(['Timestamp','5. What type of organizations are you affiliated with?','6. Do you use social media?'], axis=1)"
      ],
      "metadata": {
        "id": "rvfnhFPOATAv"
      },
      "execution_count": 6,
      "outputs": []
    },
    {
      "cell_type": "markdown",
      "source": [
        "##Rename columns for easier referencing"
      ],
      "metadata": {
        "id": "itUbM_rutEvV"
      }
    },
    {
      "cell_type": "code",
      "source": [
        "df.rename(columns = {'1. What is your age?':'Age',\n",
        "                     '2. Gender':'Gender',\n",
        "                     '3. Relationship Status':'Relationship Status',\n",
        "                     '4. Occupation Status':'Occupation',\n",
        "                     '7. What social media platforms do you commonly use?':'Platforms',\n",
        "                     '8. What is the average time you spend on social media every day?':'Hours Online',\n",
        "                     '9. How often do you find yourself using Social media without a specific purpose?':'ADHD1',\n",
        "                     '10. How often do you get distracted by Social media when you are busy doing something?':'ADHD2',\n",
        "                     \"11. Do you feel restless if you haven't used Social media in a while?\":'Anx1',\n",
        "                     '12. On a scale of 1 to 5, how easily distracted are you?':'ADHD3',\n",
        "                     '13. On a scale of 1 to 5, how much are you bothered by worries?':'Anx2',\n",
        "                     '14. Do you find it difficult to concentrate on things?':'ADHD4',\n",
        "                     '15. On a scale of 1-5, how often do you compare yourself to other successful people through the use of social media?':'SE1',\n",
        "                     '16. Following the previous question, how do you feel about these comparisons, generally speaking?':'SE2',\n",
        "                     '17. How often do you look to seek validation from features of social media?':'SE3',\n",
        "                     '18. How often do you feel depressed or down?':'Dep1',\n",
        "                     '19. On a scale of 1 to 5, how frequently does your interest in daily activities fluctuate?':'Dep2',\n",
        "                     '20. On a scale of 1 to 5, how often do you face issues regarding sleep?':'Dep3' },inplace=True)"
      ],
      "metadata": {
        "id": "UHgEjagKBLRN"
      },
      "execution_count": 7,
      "outputs": []
    },
    {
      "cell_type": "code",
      "source": [
        "#Check updated column list\n",
        "for col in df.columns:\n",
        "    print(col)"
      ],
      "metadata": {
        "colab": {
          "base_uri": "https://localhost:8080/"
        },
        "id": "NbW7Y_nACx-C",
        "outputId": "430b6582-9b06-47aa-f543-268922f79df0"
      },
      "execution_count": 8,
      "outputs": [
        {
          "output_type": "stream",
          "name": "stdout",
          "text": [
            "Age\n",
            "Gender\n",
            "Relationship Status\n",
            "Occupation\n",
            "Platforms\n",
            "Hours Online\n",
            "ADHD1\n",
            "ADHD2\n",
            "Anx1\n",
            "ADHD3\n",
            "Anx2\n",
            "ADHD4\n",
            "SE1\n",
            "SE2\n",
            "SE3\n",
            "Dep1\n",
            "Dep2\n",
            "Dep3\n"
          ]
        }
      ]
    },
    {
      "cell_type": "markdown",
      "source": [
        "##Exploring and amending values"
      ],
      "metadata": {
        "id": "AYpqMSqJljq9"
      }
    },
    {
      "cell_type": "code",
      "source": [
        "#Detect null values\n",
        "df.isnull().values.any()"
      ],
      "metadata": {
        "colab": {
          "base_uri": "https://localhost:8080/"
        },
        "id": "wXqPDUhJEzBV",
        "outputId": "2a239a00-a3b6-4292-8450-cd8529fb6c47"
      },
      "execution_count": 9,
      "outputs": [
        {
          "output_type": "execute_result",
          "data": {
            "text/plain": [
              "False"
            ]
          },
          "metadata": {},
          "execution_count": 9
        }
      ]
    },
    {
      "cell_type": "code",
      "source": [
        "#Check responses in gender column for any inconsistencies\n",
        "print(df.Gender.unique())"
      ],
      "metadata": {
        "colab": {
          "base_uri": "https://localhost:8080/"
        },
        "id": "HcFfR2LvE0Fj",
        "outputId": "8a3e5883-e655-425d-e519-b4619c5b68dd"
      },
      "execution_count": 10,
      "outputs": [
        {
          "output_type": "stream",
          "name": "stdout",
          "text": [
            "['Male' 'Female' 'Nonbinary ' 'Non-binary' 'NB' 'unsure ' 'Trans'\n",
            " 'Non binary ' 'There are others???']\n"
          ]
        }
      ]
    },
    {
      "cell_type": "markdown",
      "source": [
        "###Gender\n",
        "The row with the answer \"There are others???\" was dropped, as a judgement can be made that they fall into either \"Male\" or \"Female\", so including them in an \"Others\" category would skew the data"
      ],
      "metadata": {
        "id": "-HkpIFxPtWXv"
      }
    },
    {
      "cell_type": "code",
      "source": [
        "#Drop row with 'There are others???' as may skew data\n",
        "df = df[df.Gender != 'There are others???']"
      ],
      "metadata": {
        "id": "ORo53I_fF7DK"
      },
      "execution_count": 11,
      "outputs": []
    },
    {
      "cell_type": "code",
      "source": [
        "#Assign anything not male or female as \"Other\", code from ChatGPT\n",
        "df.loc[df['Gender'].isin(['Nonbinary ', 'Non-binary', 'NB', 'unsure ', 'Trans', 'Non binary ']), 'Gender'] = 'Other'\n",
        "print(df.Gender.unique())"
      ],
      "metadata": {
        "colab": {
          "base_uri": "https://localhost:8080/"
        },
        "id": "m55kUBgiHjfo",
        "outputId": "bf699f93-10f0-449c-b2ad-e2dd4a11bc96"
      },
      "execution_count": 12,
      "outputs": [
        {
          "output_type": "stream",
          "name": "stdout",
          "text": [
            "['Male' 'Female' 'Other']\n"
          ]
        }
      ]
    },
    {
      "cell_type": "code",
      "source": [
        "#Check data types for any inconsistencies\n",
        "df.info()"
      ],
      "metadata": {
        "colab": {
          "base_uri": "https://localhost:8080/"
        },
        "id": "9KCQe2e5IoeV",
        "outputId": "fc773694-2f81-4cae-9bfc-94873ceabd00"
      },
      "execution_count": 13,
      "outputs": [
        {
          "output_type": "stream",
          "name": "stdout",
          "text": [
            "<class 'pandas.core.frame.DataFrame'>\n",
            "Int64Index: 473 entries, 0 to 473\n",
            "Data columns (total 18 columns):\n",
            " #   Column               Non-Null Count  Dtype  \n",
            "---  ------               --------------  -----  \n",
            " 0   Age                  473 non-null    float64\n",
            " 1   Gender               473 non-null    object \n",
            " 2   Relationship Status  473 non-null    object \n",
            " 3   Occupation           473 non-null    object \n",
            " 4   Platforms            473 non-null    object \n",
            " 5   Hours Online         473 non-null    object \n",
            " 6   ADHD1                473 non-null    int64  \n",
            " 7   ADHD2                473 non-null    int64  \n",
            " 8   Anx1                 473 non-null    int64  \n",
            " 9   ADHD3                473 non-null    int64  \n",
            " 10  Anx2                 473 non-null    int64  \n",
            " 11  ADHD4                473 non-null    int64  \n",
            " 12  SE1                  473 non-null    int64  \n",
            " 13  SE2                  473 non-null    int64  \n",
            " 14  SE3                  473 non-null    int64  \n",
            " 15  Dep1                 473 non-null    int64  \n",
            " 16  Dep2                 473 non-null    int64  \n",
            " 17  Dep3                 473 non-null    int64  \n",
            "dtypes: float64(1), int64(12), object(5)\n",
            "memory usage: 70.2+ KB\n"
          ]
        }
      ]
    },
    {
      "cell_type": "code",
      "source": [
        "#Convert Age to integer from float\n",
        "df[df.columns[df.columns.get_loc('Age')]] = df['Age'].astype('int64')"
      ],
      "metadata": {
        "id": "-r0W39qYIwpJ"
      },
      "execution_count": 14,
      "outputs": []
    },
    {
      "cell_type": "code",
      "source": [
        "#Explore other column entries for issues\n",
        "print(df['Relationship Status'].unique())"
      ],
      "metadata": {
        "colab": {
          "base_uri": "https://localhost:8080/"
        },
        "id": "Gjw7ezvtUHhf",
        "outputId": "0d77dae0-514c-4daf-fdb4-008355f2ecee"
      },
      "execution_count": 15,
      "outputs": [
        {
          "output_type": "stream",
          "name": "stdout",
          "text": [
            "['In a relationship' 'Single' 'Married' 'Divorced']\n"
          ]
        }
      ]
    },
    {
      "cell_type": "code",
      "source": [
        "print(df.Occupation.unique())"
      ],
      "metadata": {
        "colab": {
          "base_uri": "https://localhost:8080/"
        },
        "id": "MXI_wBjQVA5b",
        "outputId": "7c61fba2-29dc-4966-c81c-18e497ca4db3"
      },
      "execution_count": 16,
      "outputs": [
        {
          "output_type": "stream",
          "name": "stdout",
          "text": [
            "['University Student' 'School Student' 'Salaried Worker' 'Retired']\n"
          ]
        }
      ]
    },
    {
      "cell_type": "code",
      "source": [
        "print(df.Platforms.unique())"
      ],
      "metadata": {
        "colab": {
          "base_uri": "https://localhost:8080/"
        },
        "id": "ZSDAhnvfVyjZ",
        "outputId": "5887d289-95e0-4fc4-fefa-72925bb7dc94"
      },
      "execution_count": 17,
      "outputs": [
        {
          "output_type": "stream",
          "name": "stdout",
          "text": [
            "['Facebook;Twitter;Instagram;YouTube;Discord;Reddit'\n",
            " 'Facebook;Instagram;YouTube;Pinterest' 'Facebook;Instagram'\n",
            " 'Facebook;Instagram;YouTube'\n",
            " 'Facebook;Twitter;Instagram;YouTube;Discord;Pinterest;TikTok'\n",
            " 'Facebook;Instagram;YouTube;Snapchat;TikTok' 'Reddit;Pinterest'\n",
            " 'Facebook;Instagram;YouTube;Discord'\n",
            " 'Facebook;Instagram;YouTube;Snapchat;Discord;Reddit;Pinterest;TikTok'\n",
            " 'Facebook;Twitter;Instagram;YouTube;Snapchat;Discord;Reddit;Pinterest'\n",
            " 'Facebook;Twitter;Instagram;YouTube;Snapchat;Reddit;Pinterest'\n",
            " 'Facebook;YouTube;Pinterest' 'Facebook;Instagram;YouTube;Reddit'\n",
            " 'Facebook;YouTube;Discord' 'Facebook;YouTube;Discord;Reddit'\n",
            " 'Facebook;Twitter;Instagram;YouTube'\n",
            " 'Facebook;Instagram;YouTube;Discord;Reddit'\n",
            " 'Facebook;Twitter;Instagram;YouTube;Discord;Reddit;TikTok'\n",
            " 'Facebook;Instagram;YouTube;Snapchat;Pinterest'\n",
            " 'Facebook;Twitter;YouTube;Discord' 'Facebook;YouTube'\n",
            " 'Facebook;Instagram;YouTube;Snapchat;Discord;Pinterest;TikTok'\n",
            " 'Facebook;Instagram;YouTube;Snapchat;Discord'\n",
            " 'Facebook;Instagram;YouTube;TikTok'\n",
            " 'Facebook;Instagram;YouTube;Discord;Pinterest'\n",
            " 'Facebook;Twitter;Instagram;YouTube;Discord'\n",
            " 'Facebook;Twitter;Instagram;YouTube;Snapchat;Discord;Reddit'\n",
            " 'Facebook;Instagram;YouTube;Snapchat' 'YouTube' 'Twitter;Discord;Reddit'\n",
            " 'Instagram;YouTube;Reddit;Pinterest' 'Twitter;YouTube;Reddit'\n",
            " 'Facebook;Twitter;Instagram;YouTube;Snapchat;Discord;Reddit;Pinterest;TikTok'\n",
            " 'YouTube;Snapchat;Discord' 'Facebook' 'Discord;Reddit'\n",
            " 'YouTube;Discord;Reddit'\n",
            " 'Facebook;Twitter;Instagram;YouTube;Snapchat;Reddit;TikTok'\n",
            " 'Facebook;Instagram;YouTube;Snapchat;Discord;Reddit' 'Instagram;Reddit'\n",
            " 'YouTube;Reddit' 'Reddit' 'Facebook;Instagram;Reddit;TikTok'\n",
            " 'Twitter;Instagram;YouTube;Reddit;TikTok'\n",
            " 'YouTube;Snapchat;Discord;Reddit' 'Instagram;YouTube'\n",
            " 'Instagram;YouTube;Discord;Reddit'\n",
            " 'Twitter;Instagram;YouTube;Snapchat;Reddit;Pinterest;TikTok'\n",
            " 'Twitter;YouTube;Discord;Reddit' 'Facebook;YouTube;Reddit'\n",
            " 'Facebook;Twitter;Instagram;YouTube;Snapchat;Discord;TikTok'\n",
            " 'Twitter;Instagram;YouTube;Snapchat;Discord;Reddit'\n",
            " 'Facebook;Instagram;YouTube;Snapchat;Discord;Reddit;Pinterest'\n",
            " 'Instagram;YouTube;Snapchat;Discord;Reddit'\n",
            " 'Facebook;Twitter;Instagram;YouTube;Reddit'\n",
            " 'Facebook;Twitter;Instagram;YouTube;Snapchat'\n",
            " 'Twitter;Instagram;YouTube;Snapchat;Discord;Reddit;TikTok' 'Instagram'\n",
            " 'Instagram;YouTube;Discord'\n",
            " 'Facebook;Instagram;YouTube;Snapchat;Discord;TikTok'\n",
            " 'Facebook;Twitter;Instagram;YouTube;Snapchat;Pinterest'\n",
            " 'Facebook;Instagram;TikTok' 'Facebook;Instagram;Snapchat'\n",
            " 'Facebook;YouTube;Snapchat;Pinterest'\n",
            " 'Facebook;Twitter;Instagram;YouTube;Snapchat;Discord'\n",
            " 'Facebook;Instagram;YouTube;Snapchat;Pinterest;TikTok'\n",
            " 'Instagram;YouTube;Snapchat;Pinterest'\n",
            " 'Facebook;Twitter;Instagram;YouTube;Pinterest'\n",
            " 'Facebook;Twitter;Instagram;YouTube;Snapchat;Discord;Pinterest'\n",
            " 'Twitter;Instagram;YouTube' 'Facebook;Twitter;YouTube' 'Twitter'\n",
            " 'Facebook;Instagram;YouTube;Pinterest;TikTok' 'Twitter;YouTube'\n",
            " 'Facebook;Twitter' 'Instagram;YouTube;Pinterest' 'Pinterest'\n",
            " 'Facebook;YouTube;TikTok'\n",
            " 'Facebook;Twitter;Instagram;YouTube;Reddit;Pinterest;TikTok'\n",
            " 'Facebook;Twitter;Instagram;YouTube;Snapchat;Discord;Pinterest;TikTok'\n",
            " 'Facebook;Instagram;Pinterest'\n",
            " 'Facebook;YouTube;Discord;Reddit;Pinterest'\n",
            " 'Facebook;Twitter;YouTube;Discord;Reddit'\n",
            " 'Facebook;Instagram;YouTube;Discord;Reddit;TikTok'\n",
            " 'Facebook;Discord;Reddit' 'Instagram;Discord;Reddit;Pinterest;TikTok'\n",
            " 'Twitter;Instagram;YouTube;Snapchat;Discord;Reddit;Pinterest;TikTok'\n",
            " 'Facebook;YouTube;Snapchat'\n",
            " 'Facebook;Instagram;YouTube;Snapchat;Discord;Pinterest'\n",
            " 'Facebook;YouTube;Discord;Pinterest'\n",
            " 'Instagram;YouTube;Discord;Reddit;TikTok' 'TikTok'\n",
            " 'Facebook;Twitter;Instagram;YouTube;Snapchat;TikTok'\n",
            " 'Facebook;Instagram;YouTube;Discord;Pinterest;TikTok'\n",
            " 'Facebook;Instagram;Discord'\n",
            " 'Facebook;Twitter;Instagram;YouTube;Discord;Reddit;Pinterest;TikTok'\n",
            " 'Facebook;Twitter;YouTube;Discord;Pinterest' 'Discord'\n",
            " 'Facebook;Instagram;YouTube;Discord;Reddit;Pinterest' 'Facebook;Discord'\n",
            " 'Facebook;TikTok'\n",
            " 'Facebook;Twitter;Instagram;YouTube;Snapchat;Discord;Reddit;TikTok'\n",
            " 'Instagram;YouTube;Discord;Pinterest' 'Facebook;YouTube;Snapchat;Discord'\n",
            " 'Facebook;Twitter;Instagram;YouTube;Discord;Reddit;Pinterest'\n",
            " 'Facebook;Instagram;YouTube;Snapchat;Reddit;Pinterest;TikTok'\n",
            " 'Facebook;Instagram;Snapchat;Pinterest;TikTok'\n",
            " 'Facebook;Twitter;Instagram;YouTube;Reddit;Pinterest'\n",
            " 'Facebook;Twitter;Instagram;Snapchat;Reddit' 'YouTube;Discord'\n",
            " 'Facebook;Instagram;YouTube;Snapchat;Discord;Reddit;TikTok'\n",
            " 'Twitter;Instagram;TikTok'\n",
            " 'Facebook;Instagram;Snapchat;Discord;Pinterest;TikTok'\n",
            " 'YouTube;Pinterest' 'Instagram;YouTube;Discord;Reddit;Pinterest'\n",
            " 'Twitter;Instagram;YouTube;TikTok'\n",
            " 'Facebook;Twitter;Instagram;YouTube;Discord;Pinterest'\n",
            " 'Facebook;Instagram;YouTube;Reddit;Pinterest;TikTok'\n",
            " 'Facebook;Snapchat;Reddit' 'Facebook;Instagram;YouTube;Reddit;Pinterest'\n",
            " 'Facebook;Instagram;YouTube;Reddit;TikTok'\n",
            " 'Facebook;Twitter;YouTube;Pinterest' 'Instagram;Discord'\n",
            " 'Twitter;Instagram;YouTube;Discord;Pinterest'\n",
            " 'Instagram;YouTube;Snapchat;Discord;Reddit;Pinterest;TikTok']\n"
          ]
        }
      ]
    },
    {
      "cell_type": "markdown",
      "source": [
        "###Platforms used\n",
        "The Platforms column contains multiple answers per row. There is use in knowing which platforms, and how many in total are in use, so one-hot coding was done by creating new columns for each platform, assigning a 1 where it was in use, and 0 where it was not"
      ],
      "metadata": {
        "id": "crgDn6y9txUk"
      }
    },
    {
      "cell_type": "code",
      "source": [
        "#code from ChatGPT\n",
        "# List of column names to be checked\n",
        "column_names = ['Discord', 'Facebook', 'Instagram', 'Pinterest', 'Reddit', 'Snapchat', 'TikTok', 'Twitter', 'YouTube']\n",
        "\n",
        "# Create new columns with 0 as the default value\n",
        "for col_name in column_names:\n",
        "    df[col_name] = df['Platforms'].str.contains(col_name, case=False).astype(int)"
      ],
      "metadata": {
        "id": "XX1mxIUWW7Iq"
      },
      "execution_count": 18,
      "outputs": []
    },
    {
      "cell_type": "code",
      "source": [
        "#Double check the new columns work as expected\n",
        "df.head()"
      ],
      "metadata": {
        "colab": {
          "base_uri": "https://localhost:8080/",
          "height": 490
        },
        "id": "Xus6BfYkYBEj",
        "outputId": "829056dd-14ae-40b6-da47-c4a415d3cdb3"
      },
      "execution_count": 19,
      "outputs": [
        {
          "output_type": "execute_result",
          "data": {
            "text/plain": [
              "   Age  Gender Relationship Status          Occupation  \\\n",
              "0   21    Male   In a relationship  University Student   \n",
              "1   21  Female              Single  University Student   \n",
              "2   21  Female              Single  University Student   \n",
              "3   21  Female              Single  University Student   \n",
              "4   21  Female              Single  University Student   \n",
              "\n",
              "                                           Platforms           Hours Online  \\\n",
              "0  Facebook;Twitter;Instagram;YouTube;Discord;Reddit  Between 2 and 3 hours   \n",
              "1  Facebook;Twitter;Instagram;YouTube;Discord;Reddit      More than 5 hours   \n",
              "2               Facebook;Instagram;YouTube;Pinterest  Between 3 and 4 hours   \n",
              "3                                 Facebook;Instagram      More than 5 hours   \n",
              "4                         Facebook;Instagram;YouTube  Between 2 and 3 hours   \n",
              "\n",
              "   ADHD1  ADHD2  Anx1  ADHD3  ...  Dep3  Discord  Facebook  Instagram  \\\n",
              "0      5      3     2      5  ...     5        1         1          1   \n",
              "1      4      3     2      4  ...     5        1         1          1   \n",
              "2      3      2     1      2  ...     5        0         1          1   \n",
              "3      4      2     1      3  ...     2        0         1          1   \n",
              "4      3      5     4      4  ...     1        0         1          1   \n",
              "\n",
              "   Pinterest  Reddit  Snapchat  TikTok  Twitter  YouTube  \n",
              "0          0       1         0       0        1        1  \n",
              "1          0       1         0       0        1        1  \n",
              "2          1       0         0       0        0        1  \n",
              "3          0       0         0       0        0        0  \n",
              "4          0       0         0       0        0        1  \n",
              "\n",
              "[5 rows x 27 columns]"
            ],
            "text/html": [
              "\n",
              "\n",
              "  <div id=\"df-a3d2efc6-68f1-4c42-a5b4-98dfa0809b07\">\n",
              "    <div class=\"colab-df-container\">\n",
              "      <div>\n",
              "<style scoped>\n",
              "    .dataframe tbody tr th:only-of-type {\n",
              "        vertical-align: middle;\n",
              "    }\n",
              "\n",
              "    .dataframe tbody tr th {\n",
              "        vertical-align: top;\n",
              "    }\n",
              "\n",
              "    .dataframe thead th {\n",
              "        text-align: right;\n",
              "    }\n",
              "</style>\n",
              "<table border=\"1\" class=\"dataframe\">\n",
              "  <thead>\n",
              "    <tr style=\"text-align: right;\">\n",
              "      <th></th>\n",
              "      <th>Age</th>\n",
              "      <th>Gender</th>\n",
              "      <th>Relationship Status</th>\n",
              "      <th>Occupation</th>\n",
              "      <th>Platforms</th>\n",
              "      <th>Hours Online</th>\n",
              "      <th>ADHD1</th>\n",
              "      <th>ADHD2</th>\n",
              "      <th>Anx1</th>\n",
              "      <th>ADHD3</th>\n",
              "      <th>...</th>\n",
              "      <th>Dep3</th>\n",
              "      <th>Discord</th>\n",
              "      <th>Facebook</th>\n",
              "      <th>Instagram</th>\n",
              "      <th>Pinterest</th>\n",
              "      <th>Reddit</th>\n",
              "      <th>Snapchat</th>\n",
              "      <th>TikTok</th>\n",
              "      <th>Twitter</th>\n",
              "      <th>YouTube</th>\n",
              "    </tr>\n",
              "  </thead>\n",
              "  <tbody>\n",
              "    <tr>\n",
              "      <th>0</th>\n",
              "      <td>21</td>\n",
              "      <td>Male</td>\n",
              "      <td>In a relationship</td>\n",
              "      <td>University Student</td>\n",
              "      <td>Facebook;Twitter;Instagram;YouTube;Discord;Reddit</td>\n",
              "      <td>Between 2 and 3 hours</td>\n",
              "      <td>5</td>\n",
              "      <td>3</td>\n",
              "      <td>2</td>\n",
              "      <td>5</td>\n",
              "      <td>...</td>\n",
              "      <td>5</td>\n",
              "      <td>1</td>\n",
              "      <td>1</td>\n",
              "      <td>1</td>\n",
              "      <td>0</td>\n",
              "      <td>1</td>\n",
              "      <td>0</td>\n",
              "      <td>0</td>\n",
              "      <td>1</td>\n",
              "      <td>1</td>\n",
              "    </tr>\n",
              "    <tr>\n",
              "      <th>1</th>\n",
              "      <td>21</td>\n",
              "      <td>Female</td>\n",
              "      <td>Single</td>\n",
              "      <td>University Student</td>\n",
              "      <td>Facebook;Twitter;Instagram;YouTube;Discord;Reddit</td>\n",
              "      <td>More than 5 hours</td>\n",
              "      <td>4</td>\n",
              "      <td>3</td>\n",
              "      <td>2</td>\n",
              "      <td>4</td>\n",
              "      <td>...</td>\n",
              "      <td>5</td>\n",
              "      <td>1</td>\n",
              "      <td>1</td>\n",
              "      <td>1</td>\n",
              "      <td>0</td>\n",
              "      <td>1</td>\n",
              "      <td>0</td>\n",
              "      <td>0</td>\n",
              "      <td>1</td>\n",
              "      <td>1</td>\n",
              "    </tr>\n",
              "    <tr>\n",
              "      <th>2</th>\n",
              "      <td>21</td>\n",
              "      <td>Female</td>\n",
              "      <td>Single</td>\n",
              "      <td>University Student</td>\n",
              "      <td>Facebook;Instagram;YouTube;Pinterest</td>\n",
              "      <td>Between 3 and 4 hours</td>\n",
              "      <td>3</td>\n",
              "      <td>2</td>\n",
              "      <td>1</td>\n",
              "      <td>2</td>\n",
              "      <td>...</td>\n",
              "      <td>5</td>\n",
              "      <td>0</td>\n",
              "      <td>1</td>\n",
              "      <td>1</td>\n",
              "      <td>1</td>\n",
              "      <td>0</td>\n",
              "      <td>0</td>\n",
              "      <td>0</td>\n",
              "      <td>0</td>\n",
              "      <td>1</td>\n",
              "    </tr>\n",
              "    <tr>\n",
              "      <th>3</th>\n",
              "      <td>21</td>\n",
              "      <td>Female</td>\n",
              "      <td>Single</td>\n",
              "      <td>University Student</td>\n",
              "      <td>Facebook;Instagram</td>\n",
              "      <td>More than 5 hours</td>\n",
              "      <td>4</td>\n",
              "      <td>2</td>\n",
              "      <td>1</td>\n",
              "      <td>3</td>\n",
              "      <td>...</td>\n",
              "      <td>2</td>\n",
              "      <td>0</td>\n",
              "      <td>1</td>\n",
              "      <td>1</td>\n",
              "      <td>0</td>\n",
              "      <td>0</td>\n",
              "      <td>0</td>\n",
              "      <td>0</td>\n",
              "      <td>0</td>\n",
              "      <td>0</td>\n",
              "    </tr>\n",
              "    <tr>\n",
              "      <th>4</th>\n",
              "      <td>21</td>\n",
              "      <td>Female</td>\n",
              "      <td>Single</td>\n",
              "      <td>University Student</td>\n",
              "      <td>Facebook;Instagram;YouTube</td>\n",
              "      <td>Between 2 and 3 hours</td>\n",
              "      <td>3</td>\n",
              "      <td>5</td>\n",
              "      <td>4</td>\n",
              "      <td>4</td>\n",
              "      <td>...</td>\n",
              "      <td>1</td>\n",
              "      <td>0</td>\n",
              "      <td>1</td>\n",
              "      <td>1</td>\n",
              "      <td>0</td>\n",
              "      <td>0</td>\n",
              "      <td>0</td>\n",
              "      <td>0</td>\n",
              "      <td>0</td>\n",
              "      <td>1</td>\n",
              "    </tr>\n",
              "  </tbody>\n",
              "</table>\n",
              "<p>5 rows × 27 columns</p>\n",
              "</div>\n",
              "      <button class=\"colab-df-convert\" onclick=\"convertToInteractive('df-a3d2efc6-68f1-4c42-a5b4-98dfa0809b07')\"\n",
              "              title=\"Convert this dataframe to an interactive table.\"\n",
              "              style=\"display:none;\">\n",
              "\n",
              "  <svg xmlns=\"http://www.w3.org/2000/svg\" height=\"24px\"viewBox=\"0 0 24 24\"\n",
              "       width=\"24px\">\n",
              "    <path d=\"M0 0h24v24H0V0z\" fill=\"none\"/>\n",
              "    <path d=\"M18.56 5.44l.94 2.06.94-2.06 2.06-.94-2.06-.94-.94-2.06-.94 2.06-2.06.94zm-11 1L8.5 8.5l.94-2.06 2.06-.94-2.06-.94L8.5 2.5l-.94 2.06-2.06.94zm10 10l.94 2.06.94-2.06 2.06-.94-2.06-.94-.94-2.06-.94 2.06-2.06.94z\"/><path d=\"M17.41 7.96l-1.37-1.37c-.4-.4-.92-.59-1.43-.59-.52 0-1.04.2-1.43.59L10.3 9.45l-7.72 7.72c-.78.78-.78 2.05 0 2.83L4 21.41c.39.39.9.59 1.41.59.51 0 1.02-.2 1.41-.59l7.78-7.78 2.81-2.81c.8-.78.8-2.07 0-2.86zM5.41 20L4 18.59l7.72-7.72 1.47 1.35L5.41 20z\"/>\n",
              "  </svg>\n",
              "      </button>\n",
              "\n",
              "\n",
              "\n",
              "    <div id=\"df-68e095ef-44c4-4b6c-861c-f0bb2e500bd5\">\n",
              "      <button class=\"colab-df-quickchart\" onclick=\"quickchart('df-68e095ef-44c4-4b6c-861c-f0bb2e500bd5')\"\n",
              "              title=\"Suggest charts.\"\n",
              "              style=\"display:none;\">\n",
              "\n",
              "<svg xmlns=\"http://www.w3.org/2000/svg\" height=\"24px\"viewBox=\"0 0 24 24\"\n",
              "     width=\"24px\">\n",
              "    <g>\n",
              "        <path d=\"M19 3H5c-1.1 0-2 .9-2 2v14c0 1.1.9 2 2 2h14c1.1 0 2-.9 2-2V5c0-1.1-.9-2-2-2zM9 17H7v-7h2v7zm4 0h-2V7h2v10zm4 0h-2v-4h2v4z\"/>\n",
              "    </g>\n",
              "</svg>\n",
              "      </button>\n",
              "    </div>\n",
              "\n",
              "<style>\n",
              "  .colab-df-quickchart {\n",
              "    background-color: #E8F0FE;\n",
              "    border: none;\n",
              "    border-radius: 50%;\n",
              "    cursor: pointer;\n",
              "    display: none;\n",
              "    fill: #1967D2;\n",
              "    height: 32px;\n",
              "    padding: 0 0 0 0;\n",
              "    width: 32px;\n",
              "  }\n",
              "\n",
              "  .colab-df-quickchart:hover {\n",
              "    background-color: #E2EBFA;\n",
              "    box-shadow: 0px 1px 2px rgba(60, 64, 67, 0.3), 0px 1px 3px 1px rgba(60, 64, 67, 0.15);\n",
              "    fill: #174EA6;\n",
              "  }\n",
              "\n",
              "  [theme=dark] .colab-df-quickchart {\n",
              "    background-color: #3B4455;\n",
              "    fill: #D2E3FC;\n",
              "  }\n",
              "\n",
              "  [theme=dark] .colab-df-quickchart:hover {\n",
              "    background-color: #434B5C;\n",
              "    box-shadow: 0px 1px 3px 1px rgba(0, 0, 0, 0.15);\n",
              "    filter: drop-shadow(0px 1px 2px rgba(0, 0, 0, 0.3));\n",
              "    fill: #FFFFFF;\n",
              "  }\n",
              "</style>\n",
              "\n",
              "    <script>\n",
              "      async function quickchart(key) {\n",
              "        const containerElement = document.querySelector('#' + key);\n",
              "        const charts = await google.colab.kernel.invokeFunction(\n",
              "            'suggestCharts', [key], {});\n",
              "      }\n",
              "    </script>\n",
              "\n",
              "      <script>\n",
              "\n",
              "function displayQuickchartButton(domScope) {\n",
              "  let quickchartButtonEl =\n",
              "    domScope.querySelector('#df-68e095ef-44c4-4b6c-861c-f0bb2e500bd5 button.colab-df-quickchart');\n",
              "  quickchartButtonEl.style.display =\n",
              "    google.colab.kernel.accessAllowed ? 'block' : 'none';\n",
              "}\n",
              "\n",
              "        displayQuickchartButton(document);\n",
              "      </script>\n",
              "      <style>\n",
              "    .colab-df-container {\n",
              "      display:flex;\n",
              "      flex-wrap:wrap;\n",
              "      gap: 12px;\n",
              "    }\n",
              "\n",
              "    .colab-df-convert {\n",
              "      background-color: #E8F0FE;\n",
              "      border: none;\n",
              "      border-radius: 50%;\n",
              "      cursor: pointer;\n",
              "      display: none;\n",
              "      fill: #1967D2;\n",
              "      height: 32px;\n",
              "      padding: 0 0 0 0;\n",
              "      width: 32px;\n",
              "    }\n",
              "\n",
              "    .colab-df-convert:hover {\n",
              "      background-color: #E2EBFA;\n",
              "      box-shadow: 0px 1px 2px rgba(60, 64, 67, 0.3), 0px 1px 3px 1px rgba(60, 64, 67, 0.15);\n",
              "      fill: #174EA6;\n",
              "    }\n",
              "\n",
              "    [theme=dark] .colab-df-convert {\n",
              "      background-color: #3B4455;\n",
              "      fill: #D2E3FC;\n",
              "    }\n",
              "\n",
              "    [theme=dark] .colab-df-convert:hover {\n",
              "      background-color: #434B5C;\n",
              "      box-shadow: 0px 1px 3px 1px rgba(0, 0, 0, 0.15);\n",
              "      filter: drop-shadow(0px 1px 2px rgba(0, 0, 0, 0.3));\n",
              "      fill: #FFFFFF;\n",
              "    }\n",
              "  </style>\n",
              "\n",
              "      <script>\n",
              "        const buttonEl =\n",
              "          document.querySelector('#df-a3d2efc6-68f1-4c42-a5b4-98dfa0809b07 button.colab-df-convert');\n",
              "        buttonEl.style.display =\n",
              "          google.colab.kernel.accessAllowed ? 'block' : 'none';\n",
              "\n",
              "        async function convertToInteractive(key) {\n",
              "          const element = document.querySelector('#df-a3d2efc6-68f1-4c42-a5b4-98dfa0809b07');\n",
              "          const dataTable =\n",
              "            await google.colab.kernel.invokeFunction('convertToInteractive',\n",
              "                                                     [key], {});\n",
              "          if (!dataTable) return;\n",
              "\n",
              "          const docLinkHtml = 'Like what you see? Visit the ' +\n",
              "            '<a target=\"_blank\" href=https://colab.research.google.com/notebooks/data_table.ipynb>data table notebook</a>'\n",
              "            + ' to learn more about interactive tables.';\n",
              "          element.innerHTML = '';\n",
              "          dataTable['output_type'] = 'display_data';\n",
              "          await google.colab.output.renderOutput(dataTable, element);\n",
              "          const docLink = document.createElement('div');\n",
              "          docLink.innerHTML = docLinkHtml;\n",
              "          element.appendChild(docLink);\n",
              "        }\n",
              "      </script>\n",
              "    </div>\n",
              "  </div>\n"
            ]
          },
          "metadata": {},
          "execution_count": 19
        }
      ]
    },
    {
      "cell_type": "code",
      "source": [
        "#Drop the Platforms column as no longer needed\n",
        "df.drop('Platforms', axis=1, inplace=True)"
      ],
      "metadata": {
        "id": "uhaJUkNxYIMh"
      },
      "execution_count": 20,
      "outputs": []
    },
    {
      "cell_type": "code",
      "source": [
        "#Get a sum of the number of platforms used\n",
        "df[\"Total Platforms\"] = df.Discord + df.Facebook + df.Instagram + df.Pinterest + df.Reddit + df.Snapchat + df.TikTok + df.Twitter + df.YouTube"
      ],
      "metadata": {
        "id": "gwrgCpiiYS4b"
      },
      "execution_count": 21,
      "outputs": []
    },
    {
      "cell_type": "code",
      "source": [
        "#Reorder columns, code from ChatGPT\n",
        "desired_order = [\n",
        "    'Age',\n",
        "    'Gender',\n",
        "    'Relationship Status',\n",
        "    'Occupation',\n",
        "    'Discord',\n",
        "    'Facebook',\n",
        "    'Instagram',\n",
        "    'Pinterest',\n",
        "    'Reddit',\n",
        "    'Snapchat',\n",
        "    'TikTok',\n",
        "    'Twitter',\n",
        "    'Snapchat',\n",
        "    'YouTube',\n",
        "    'Total Platforms',\n",
        "    'Hours Online',\n",
        "    'ADHD1',\n",
        "    'ADHD2',\n",
        "    'ADHD3',\n",
        "    'ADHD4',\n",
        "    'Anx1',\n",
        "    'Anx2',\n",
        "    'SE1',\n",
        "    'SE2',\n",
        "    'SE3',\n",
        "    'Dep1',\n",
        "    'Dep2',\n",
        "    'Dep3'\n",
        "]\n",
        "\n",
        "# Use reindex to rearrange the columns based on the desired_order\n",
        "df = df.reindex(columns=desired_order)"
      ],
      "metadata": {
        "id": "-7lteAnPZf9_"
      },
      "execution_count": 22,
      "outputs": []
    },
    {
      "cell_type": "code",
      "source": [
        "#Check answers to hours online\n",
        "print(df['Hours Online'].unique())"
      ],
      "metadata": {
        "colab": {
          "base_uri": "https://localhost:8080/"
        },
        "id": "1Otimwu8aKMw",
        "outputId": "dd6f0dbb-bc3c-4500-8fb7-f60c3f85564d"
      },
      "execution_count": 23,
      "outputs": [
        {
          "output_type": "stream",
          "name": "stdout",
          "text": [
            "['Between 2 and 3 hours' 'More than 5 hours' 'Between 3 and 4 hours'\n",
            " 'Less than an Hour' 'Between 1 and 2 hours' 'Between 4 and 5 hours']\n"
          ]
        }
      ]
    },
    {
      "cell_type": "markdown",
      "source": [
        "###Hours Spent Online\n",
        "The answers to how many hours are spent online was converted to a number to indicate scale, using the midpoint number. 0.5 was assigned to \"Less than an hour\" as it does not necessarily mean no time is spent online"
      ],
      "metadata": {
        "id": "r6crzc6XuT13"
      }
    },
    {
      "cell_type": "code",
      "source": [
        "#Use midpoint of \"between x and y\" as total hours number\n",
        "df['Hours Online'] = df['Hours Online'].replace('Less than an Hour',0.5)\n",
        "df['Hours Online'] = df['Hours Online'].replace('Between 1 and 2 hours',1.5)\n",
        "df['Hours Online'] = df['Hours Online'].replace('Between 2 and 3 hours',2.5)\n",
        "df['Hours Online'] = df['Hours Online'].replace('Between 3 and 4 hours',3.5)\n",
        "df['Hours Online'] = df['Hours Online'].replace('Between 4 and 5 hours',4.5)\n",
        "df['Hours Online'] = df['Hours Online'].replace('More than 5 hours',5.5)\n",
        "df.info()"
      ],
      "metadata": {
        "colab": {
          "base_uri": "https://localhost:8080/"
        },
        "id": "zqAbS5Wga4Z5",
        "outputId": "4f3505d9-754e-49a7-96db-f9274bed9b76"
      },
      "execution_count": 24,
      "outputs": [
        {
          "output_type": "stream",
          "name": "stdout",
          "text": [
            "<class 'pandas.core.frame.DataFrame'>\n",
            "Int64Index: 473 entries, 0 to 473\n",
            "Data columns (total 28 columns):\n",
            " #   Column               Non-Null Count  Dtype  \n",
            "---  ------               --------------  -----  \n",
            " 0   Age                  473 non-null    int64  \n",
            " 1   Gender               473 non-null    object \n",
            " 2   Relationship Status  473 non-null    object \n",
            " 3   Occupation           473 non-null    object \n",
            " 4   Discord              473 non-null    int64  \n",
            " 5   Facebook             473 non-null    int64  \n",
            " 6   Instagram            473 non-null    int64  \n",
            " 7   Pinterest            473 non-null    int64  \n",
            " 8   Reddit               473 non-null    int64  \n",
            " 9   Snapchat             473 non-null    int64  \n",
            " 10  TikTok               473 non-null    int64  \n",
            " 11  Twitter              473 non-null    int64  \n",
            " 12  Snapchat             473 non-null    int64  \n",
            " 13  YouTube              473 non-null    int64  \n",
            " 14  Total Platforms      473 non-null    int64  \n",
            " 15  Hours Online         473 non-null    float64\n",
            " 16  ADHD1                473 non-null    int64  \n",
            " 17  ADHD2                473 non-null    int64  \n",
            " 18  ADHD3                473 non-null    int64  \n",
            " 19  ADHD4                473 non-null    int64  \n",
            " 20  Anx1                 473 non-null    int64  \n",
            " 21  Anx2                 473 non-null    int64  \n",
            " 22  SE1                  473 non-null    int64  \n",
            " 23  SE2                  473 non-null    int64  \n",
            " 24  SE3                  473 non-null    int64  \n",
            " 25  Dep1                 473 non-null    int64  \n",
            " 26  Dep2                 473 non-null    int64  \n",
            " 27  Dep3                 473 non-null    int64  \n",
            "dtypes: float64(1), int64(24), object(3)\n",
            "memory usage: 107.2+ KB\n"
          ]
        }
      ]
    },
    {
      "cell_type": "markdown",
      "source": [
        "###New columns for totals for each mental health outcome"
      ],
      "metadata": {
        "id": "-ZZJIbbXg8tY"
      }
    },
    {
      "cell_type": "code",
      "source": [
        "#ADHD Total\n",
        "df[\"ADHD Total\"] = df.ADHD1 + df.ADHD2 + df.ADHD3 + df.ADHD4\n",
        "#Anxiety Total\n",
        "df[\"Anxiety Total\"] = df.Anx1 + df.Anx2\n",
        "#Depression total\n",
        "df[\"Depression Total\"] = df.Dep1 + df.Dep2 + df.Dep3"
      ],
      "metadata": {
        "id": "TnBev2itg711"
      },
      "execution_count": 65,
      "outputs": []
    },
    {
      "cell_type": "markdown",
      "source": [
        "# Exploratory Data Analysis\n",
        "Please note, ChatGPT was used in the creation of some elements of the data visualisations (for example data labels)"
      ],
      "metadata": {
        "id": "3lkqNOGHkpi7"
      }
    },
    {
      "cell_type": "markdown",
      "source": [
        "##Exploring number of respondents by age, gender, and occupation"
      ],
      "metadata": {
        "id": "kr-b2g6qvpkB"
      }
    },
    {
      "cell_type": "code",
      "source": [
        "#Establish age range to create bins\n",
        "print(min(df.Age))\n",
        "print(max(df.Age))"
      ],
      "metadata": {
        "colab": {
          "base_uri": "https://localhost:8080/"
        },
        "id": "rOMgPRqDvyCb",
        "outputId": "52e8829a-35e2-454a-ebf7-fedf00e6d6e9"
      },
      "execution_count": 25,
      "outputs": [
        {
          "output_type": "stream",
          "name": "stdout",
          "text": [
            "13\n",
            "91\n"
          ]
        }
      ]
    },
    {
      "cell_type": "code",
      "source": [
        "# Define the bins for the histogram\n",
        "bins = [10, 15, 20, 25, 30, 35, 40, 45, 50, 55, 60, 65, 70, 75, 80, 85, 90, 95]\n",
        "\n",
        "# Plot the histogram and get the counts\n",
        "counts, _, _ = plt.hist(df.Age, bins=bins, edgecolor='black')\n",
        "\n",
        "# Calculate the total number of data points\n",
        "total_data_points = len(df)\n",
        "\n",
        "# Calculate the percentages for each bin\n",
        "percentages = [count / total_data_points * 100 for count in counts]\n",
        "\n",
        "# Create a list of labels for each bin, showing the bin range\n",
        "labels = [f'{bins[i]}-{bins[i+1]}' for i in range(len(bins) - 1)]\n",
        "\n",
        "# Set the x-axis ticks to be in the middle of each bin\n",
        "plt.xticks([bins[i] + (bins[i+1] - bins[i]) / 2 for i in range(len(bins) - 1)], labels, rotation=45, ha='right')\n",
        "\n",
        "# Set the y-axis label\n",
        "plt.ylabel('Frequency')\n",
        "\n",
        "# Set the title of the histogram\n",
        "plt.title('Distribution of Age')\n",
        "\n",
        "# Add text labels for the percentages above each bar\n",
        "for i in range(len(bins) - 1):\n",
        "    if percentages[i] > 0:\n",
        "        plt.text(bins[i] + (bins[i+1] - bins[i]) / 2, counts[i], f'{round(percentages[i]):d}%', ha='center', va='bottom')\n",
        "\n",
        "\n",
        "# Show the histogram\n",
        "plt.show()"
      ],
      "metadata": {
        "colab": {
          "base_uri": "https://localhost:8080/",
          "height": 476
        },
        "id": "vReZN7i5LaFZ",
        "outputId": "6c0231bd-4d6c-444b-e35c-166617a20f31"
      },
      "execution_count": 35,
      "outputs": [
        {
          "output_type": "display_data",
          "data": {
            "text/plain": [
              "<Figure size 640x480 with 1 Axes>"
            ],
            "image/png": "[encoded data removed]"
          },
          "metadata": {}
        }
      ]
    },
    {
      "cell_type": "markdown",
      "source": [
        "The data is skewed young, with 58% of respondents being between 20 and 25 years old, and 80% being between 15 and 30 years old.\n",
        "\n"
      ],
      "metadata": {
        "id": "wRZr4kTsyhvM"
      }
    },
    {
      "cell_type": "code",
      "source": [
        "# Map colors to the gender categories\n",
        "colour_map = {\n",
        "    'Male': 'springgreen',\n",
        "    'Female': 'blueviolet',\n",
        "    'Other': 'yellow'\n",
        "}\n",
        "\n",
        "categories = df['Gender'].value_counts().index\n",
        "counts = df['Gender'].value_counts().values\n",
        "\n",
        "total_points = counts.sum()\n",
        "\n",
        "plt.xlabel('Gender Identity')\n",
        "plt.ylabel('Frequency')\n",
        "plt.title('Distribution of Gender Identity')\n",
        "bars = plt.bar(categories, counts, color=[colour_map.get(c) for c in categories], edgecolor='black')\n",
        "for bar in bars:\n",
        "    height = bar.get_height()\n",
        "    percentage = (height / total_points) * 100\n",
        "    plt.text(bar.get_x() + bar.get_width() / 2, height, f'{percentage:.0f}%', ha='center', va='bottom')\n",
        "plt.show()"
      ],
      "metadata": {
        "colab": {
          "base_uri": "https://localhost:8080/",
          "height": 472
        },
        "id": "YqFsfTRv4NzP",
        "outputId": "ec63b6e8-406f-4cf4-a2af-57f85a3537bb"
      },
      "execution_count": 37,
      "outputs": [
        {
          "output_type": "display_data",
          "data": {
            "text/plain": [
              "<Figure size 640x480 with 1 Axes>"
            ],
            "image/png": "[encoded data removed]"
          },
          "metadata": {}
        }
      ]
    },
    {
      "cell_type": "markdown",
      "source": [
        "55% of respondents answered female for Gender."
      ],
      "metadata": {
        "id": "4TuV9NZs5pWn"
      }
    },
    {
      "cell_type": "code",
      "source": [
        "# Define age bins\n",
        "bins = [10, 15, 20, 25, 30, 35, 40, 45, 50, 55, 60, 65, 70, 75, 80, 85, 90, 95]\n",
        "\n",
        "# Map colors to the gender categories\n",
        "colour_map = {\n",
        "    'Male': 'springgreen',\n",
        "    'Female': 'blueviolet',\n",
        "    'Other': 'yellow'\n",
        "}\n",
        "\n",
        "# Group the data by 'Age' and 'Gender' using the age bins directly in the 'groupby' operation\n",
        "grouped_data = df.groupby([pd.cut(df['Age'], bins), 'Gender']).size().unstack()\n",
        "fig, ax = plt.subplots(figsize=(10, 6))\n",
        "\n",
        "grouped_data.plot(kind='bar', stacked=True, ax=ax, color=[colour_map.get(c) for c in grouped_data.columns], edgecolor = 'black')\n",
        "ax.set_xlabel('Age')\n",
        "ax.set_ylabel('Count')\n",
        "ax.set_title('Distribution of Age and Gender')\n",
        "plt.show()"
      ],
      "metadata": {
        "colab": {
          "base_uri": "https://localhost:8080/",
          "height": 605
        },
        "id": "kMmsCzyT5yMR",
        "outputId": "03d92cf5-c4fa-4b6a-b358-952c98b8f514"
      },
      "execution_count": 38,
      "outputs": [
        {
          "output_type": "display_data",
          "data": {
            "text/plain": [
              "<Figure size 1000x600 with 1 Axes>"
            ],
            "image/png": "[encoded data removed]"
          },
          "metadata": {}
        }
      ]
    },
    {
      "cell_type": "markdown",
      "source": [
        "Where there is a split of genders female outnumbers male in all age bins, aside from ages 10-15, and 40-50. Those that responded \"Other\" primarily fall into ages 15-25, and one falling in the 65-70 age category."
      ],
      "metadata": {
        "id": "9dJLpi9CDtcq"
      }
    },
    {
      "cell_type": "code",
      "source": [
        "#Explore occupation options\n",
        "print(df.Occupation.unique())"
      ],
      "metadata": {
        "colab": {
          "base_uri": "https://localhost:8080/"
        },
        "id": "f7DjLmPQUk4Q",
        "outputId": "b0f9ec45-a9fa-4602-d021-94a74f1ed8cc"
      },
      "execution_count": 29,
      "outputs": [
        {
          "output_type": "stream",
          "name": "stdout",
          "text": [
            "['University Student' 'School Student' 'Salaried Worker' 'Retired']\n"
          ]
        }
      ]
    },
    {
      "cell_type": "code",
      "source": [
        "#Plot occupation histogram\n",
        "# Map colors to the occupation categories\n",
        "colour_map = {\n",
        "    'University Student': 'blue',\n",
        "    'School Student': 'red',\n",
        "    'Salaried Worker': 'grey',\n",
        "    'Retired' : 'orange'\n",
        "}\n",
        "\n",
        "categories = df['Occupation'].value_counts().index\n",
        "counts = df['Occupation'].value_counts().values\n",
        "\n",
        "total_points = counts.sum()\n",
        "\n",
        "plt.xlabel('Occupation')\n",
        "plt.ylabel('Frequency')\n",
        "plt.title('Distribution of Occupation')\n",
        "bars = plt.bar(categories, counts, color=[colour_map.get(c) for c in categories], edgecolor='black')\n",
        "for bar in bars:\n",
        "    height = bar.get_height()\n",
        "    percentage = (height / total_points) * 100\n",
        "    plt.text(bar.get_x() + bar.get_width() / 2, height, f'{percentage:.0f}%', ha='center', va='bottom')\n",
        "plt.show()"
      ],
      "metadata": {
        "colab": {
          "base_uri": "https://localhost:8080/",
          "height": 472
        },
        "id": "Ru1NY_BBVDG7",
        "outputId": "be48e598-b9cb-482a-b131-86adf171cbb6"
      },
      "execution_count": 40,
      "outputs": [
        {
          "output_type": "display_data",
          "data": {
            "text/plain": [
              "<Figure size 640x480 with 1 Axes>"
            ],
            "image/png": "[encoded data removed]"
          },
          "metadata": {}
        }
      ]
    },
    {
      "cell_type": "markdown",
      "source": [
        "62% of respondents are University students, with 72% of all respondents being a student of some form."
      ],
      "metadata": {
        "id": "fDhTrNiUWtZe"
      }
    },
    {
      "cell_type": "code",
      "source": [
        "# Occupation by gender\n",
        "# Map colors to the gender categories\n",
        "colour_map = {\n",
        "    'Male': 'springgreen',\n",
        "    'Female': 'blueviolet',\n",
        "    'Other': 'yellow'\n",
        "}\n",
        "\n",
        "# Group the data by 'Occupation' and 'Gender', and calculate the count of each combination\n",
        "grouped_data = df.groupby(['Occupation', 'Gender']).size().unstack()\n",
        "\n",
        "# Calculate the total count of each occupation and sort the rows based on the count in descending order\n",
        "grouped_data['Total'] = grouped_data.sum(axis=1)\n",
        "grouped_data = grouped_data.sort_values(by='Total', ascending=False)\n",
        "\n",
        "# Remove the 'Total' column as it's only needed for sorting\n",
        "grouped_data.drop(columns='Total', inplace=True)\n",
        "\n",
        "fig, ax = plt.subplots(figsize=(10, 6))\n",
        "grouped_data.plot(kind='bar', stacked=True, ax=ax, color=[colour_map.get(c) for c in grouped_data.columns], edgecolor = 'black')\n",
        "ax.set_xlabel('Occupation')\n",
        "ax.set_ylabel('Count')\n",
        "ax.set_title('Distribution of Occupation and Gender (Sorted by Occupation Count)')\n",
        "plt.show()"
      ],
      "metadata": {
        "colab": {
          "base_uri": "https://localhost:8080/",
          "height": 679
        },
        "id": "e0fjH3W-WsSx",
        "outputId": "959070e5-7c4f-49a5-be81-089fec293f86"
      },
      "execution_count": 41,
      "outputs": [
        {
          "output_type": "display_data",
          "data": {
            "text/plain": [
              "<Figure size 1000x600 with 1 Axes>"
            ],
            "image/png": "[encoded data removed]"
          },
          "metadata": {}
        }
      ]
    },
    {
      "cell_type": "markdown",
      "source": [
        "Female respondents comprised most of those answering University Student or Retired, with male respondents making up most of those answering Salaried Worker or School Student."
      ],
      "metadata": {
        "id": "WS8YW4s0PMbS"
      }
    },
    {
      "cell_type": "code",
      "source": [
        "# Define age bins\n",
        "bins = [10, 15, 20, 25, 30, 35, 40, 45, 50, 55, 60, 65, 70, 75, 80, 85, 90, 95]\n",
        "\n",
        "colour_map = {\n",
        "    'University Student': 'blue',\n",
        "    'School Student': 'red',\n",
        "    'Salaried Worker': 'grey',\n",
        "    'Retired' : 'orange'\n",
        "}\n",
        "\n",
        "# Group the data by 'Age' and 'Gender' using the age bins directly in the 'groupby' operation\n",
        "grouped_data = df.groupby([pd.cut(df['Age'], bins), 'Occupation']).size().unstack()\n",
        "fig, ax = plt.subplots(figsize=(10, 6))\n",
        "\n",
        "grouped_data.plot(kind='bar', stacked=True, ax=ax, color=[colour_map.get(c) for c in grouped_data.columns], edgecolor = 'black')\n",
        "ax.set_xlabel('Age')\n",
        "ax.set_ylabel('Count')\n",
        "ax.set_title('Distribution of Age and Occupation')\n",
        "plt.show()"
      ],
      "metadata": {
        "colab": {
          "base_uri": "https://localhost:8080/",
          "height": 605
        },
        "id": "URG9lJrlYjre",
        "outputId": "8faf859f-3e0a-4021-e4ad-3af9fb3a4687"
      },
      "execution_count": 42,
      "outputs": [
        {
          "output_type": "display_data",
          "data": {
            "text/plain": [
              "<Figure size 1000x600 with 1 Axes>"
            ],
            "image/png": "[encoded data removed]"
          },
          "metadata": {}
        }
      ]
    },
    {
      "cell_type": "markdown",
      "source": [
        "Students make up most of the respondents under the age of 25. A couple of respondents under the age of 30 responded as retired which is questionable - this may be as a result of options available when answering the questions, but isn't clear in the source data."
      ],
      "metadata": {
        "id": "d0QMJ1FPID-R"
      }
    },
    {
      "cell_type": "markdown",
      "source": [
        "##Platforms used and hours spent online"
      ],
      "metadata": {
        "id": "l_FM7Pz8ZKuW"
      }
    },
    {
      "cell_type": "code",
      "source": [
        "#Create a Treemap for platforms used - colours used are all aligned to official brand colours\n",
        "\n",
        "import plotly.graph_objects as go\n",
        "# Define custom colors for each platform\n",
        "colours = {\n",
        "    'Discord': 'rgb(88, 101, 242)',\n",
        "    'Facebook': 'rgb(66, 103, 178)',\n",
        "    'Instagram': 'rgb(193, 53, 132)',\n",
        "    'Pinterest': 'rgb(230, 0, 35)',\n",
        "    'Reddit': 'rgb(255, 69, 0)',\n",
        "    'Snapchat': 'rgb(255, 252, 0)',\n",
        "    'TikTok': 'rgb(0, 242, 234)',\n",
        "    'Twitter': 'rgb(29, 161, 242)',\n",
        "    'YouTube': 'rgb(255, 0, 0)'\n",
        "}\n",
        "\n",
        "# Extract only the platform columns for counting\n",
        "platform_columns = ['Discord', 'Facebook', 'Instagram', 'Pinterest', 'Reddit', 'Snapchat', 'TikTok', 'Twitter', 'YouTube']\n",
        "platform_counts = df[platform_columns].sum()\n",
        "\n",
        "# Calculate total number of people using social media\n",
        "total_people = len(df)\n",
        "\n",
        "# Calculate percentages and format as integers\n",
        "platform_percentages = ((platform_counts / total_people) * 100).astype(int)\n",
        "\n",
        "# Create the Treemap figure\n",
        "fig = go.Figure(go.Treemap(\n",
        "    labels=platform_counts.index,\n",
        "    parents=[''] * len(platform_counts),\n",
        "    values=platform_counts,\n",
        "    marker_colors=[colours.get(platform, 'rgb(128, 128, 128)') for platform in platform_counts.index],\n",
        "    branchvalues='total',\n",
        "    text=platform_percentages,  # Use the formatted percentages as data labels\n",
        "    textinfo='text+label',  # Show both the formatted percentage and label\n",
        "    textfont=dict(size=14),\n",
        "    texttemplate='%{label}: %{text}%'\n",
        "))\n",
        "\n",
        "# Update the layout for better visualization\n",
        "fig.update_layout(\n",
        "    title='Social Media Platform Usage',\n",
        "    margin=dict(t=50, l=10, r=10, b=10),\n",
        "    font=dict(size=14),\n",
        ")\n",
        "\n",
        "# Show the plot\n",
        "fig.show()"
      ],
      "metadata": {
        "colab": {
          "base_uri": "https://localhost:8080/",
          "height": 542
        },
        "id": "nsQK59y4S3kV",
        "outputId": "ed94bea5-695c-4fa6-f9b7-6bc25c3e654f"
      },
      "execution_count": 59,
      "outputs": [
        {
          "output_type": "display_data",
          "data": {
            "text/html": [
              "<html>\n",
              "<head><meta charset=\"utf-8\" /></head>\n",
              "<body>\n",
              "    <div>            <script src=\"https://cdnjs.cloudflare.com/ajax/libs/mathjax/2.7.5/MathJax.js?config=TeX-AMS-MML_SVG\"></script><script type=\"text/javascript\">if (window.MathJax && window.MathJax.Hub && window.MathJax.Hub.Config) {window.MathJax.Hub.Config({SVG: {font: \"STIX-Web\"}});}</script>                <script type=\"text/javascript\">window.PlotlyConfig = {MathJaxConfig: 'local'};</script>\n",
              "        <script src=\"https://cdn.plot.ly/plotly-2.18.2.min.js\"></script>                <div id=\"3e87cc24-6426-4d37-9e55-fcc776e2512a\" class=\"plotly-graph-div\" style=\"height:525px; width:100%;\"></div>            <script type=\"text/javascript\">                                    window.PLOTLYENV=window.PLOTLYENV || {};                                    if (document.getElementById(\"3e87cc24-6426-4d37-9e55-fcc776e2512a\")) {                    Plotly.newPlot(                        \"3e87cc24-6426-4d37-9e55-fcc776e2512a\",                        [{\"branchvalues\":\"total\",\"labels\":[\"Discord\",\"Facebook\",\"Instagram\",\"Pinterest\",\"Reddit\",\"Snapchat\",\"Snapchat\",\"TikTok\",\"Twitter\",\"YouTube\"],\"marker\":{\"colors\":[\"rgb(88, 101, 242)\",\"rgb(66, 103, 178)\",\"rgb(193, 53, 132)\",\"rgb(230, 0, 35)\",\"rgb(255, 69, 0)\",\"rgb(255, 252, 0)\",\"rgb(255, 252, 0)\",\"rgb(0, 242, 234)\",\"rgb(29, 161, 242)\",\"rgb(255, 0, 0)\"]},\"parents\":[\"\",\"\",\"\",\"\",\"\",\"\",\"\",\"\",\"\",\"\"],\"text\":[41,84,74,30,26,38,38,19,27,85],\"textfont\":{\"size\":14},\"textinfo\":\"text+label\",\"texttemplate\":\"%{label}: %{text}%\",\"values\":[197,399,354,144,126,180,180,94,130,405],\"type\":\"treemap\"}],                        {\"template\":{\"data\":{\"histogram2dcontour\":[{\"type\":\"histogram2dcontour\",\"colorbar\":{\"outlinewidth\":0,\"ticks\":\"\"},\"colorscale\":[[0.0,\"#0d0887\"],[0.1111111111111111,\"#46039f\"],[0.2222222222222222,\"#7201a8\"],[0.3333333333333333,\"#9c179e\"],[0.4444444444444444,\"#bd3786\"],[0.5555555555555556,\"#d8576b\"],[0.6666666666666666,\"#ed7953\"],[0.7777777777777778,\"#fb9f3a\"],[0.8888888888888888,\"#fdca26\"],[1.0,\"#f0f921\"]]}],\"choropleth\":[{\"type\":\"choropleth\",\"colorbar\":{\"outlinewidth\":0,\"ticks\":\"\"}}],\"histogram2d\":[{\"type\":\"histogram2d\",\"colorbar\":{\"outlinewidth\":0,\"ticks\":\"\"},\"colorscale\":[[0.0,\"#0d0887\"],[0.1111111111111111,\"#46039f\"],[0.2222222222222222,\"#7201a8\"],[0.3333333333333333,\"#9c179e\"],[0.4444444444444444,\"#bd3786\"],[0.5555555555555556,\"#d8576b\"],[0.6666666666666666,\"#ed7953\"],[0.7777777777777778,\"#fb9f3a\"],[0.8888888888888888,\"#fdca26\"],[1.0,\"#f0f921\"]]}],\"heatmap\":[{\"type\":\"heatmap\",\"colorbar\":{\"outlinewidth\":0,\"ticks\":\"\"},\"colorscale\":[[0.0,\"#0d0887\"],[0.1111111111111111,\"#46039f\"],[0.2222222222222222,\"#7201a8\"],[0.3333333333333333,\"#9c179e\"],[0.4444444444444444,\"#bd3786\"],[0.5555555555555556,\"#d8576b\"],[0.6666666666666666,\"#ed7953\"],[0.7777777777777778,\"#fb9f3a\"],[0.8888888888888888,\"#fdca26\"],[1.0,\"#f0f921\"]]}],\"heatmapgl\":[{\"type\":\"heatmapgl\",\"colorbar\":{\"outlinewidth\":0,\"ticks\":\"\"},\"colorscale\":[[0.0,\"#0d0887\"],[0.1111111111111111,\"#46039f\"],[0.2222222222222222,\"#7201a8\"],[0.3333333333333333,\"#9c179e\"],[0.4444444444444444,\"#bd3786\"],[0.5555555555555556,\"#d8576b\"],[0.6666666666666666,\"#ed7953\"],[0.7777777777777778,\"#fb9f3a\"],[0.8888888888888888,\"#fdca26\"],[1.0,\"#f0f921\"]]}],\"contourcarpet\":[{\"type\":\"contourcarpet\",\"colorbar\":{\"outlinewidth\":0,\"ticks\":\"\"}}],\"contour\":[{\"type\":\"contour\",\"colorbar\":{\"outlinewidth\":0,\"ticks\":\"\"},\"colorscale\":[[0.0,\"#0d0887\"],[0.1111111111111111,\"#46039f\"],[0.2222222222222222,\"#7201a8\"],[0.3333333333333333,\"#9c179e\"],[0.4444444444444444,\"#bd3786\"],[0.5555555555555556,\"#d8576b\"],[0.6666666666666666,\"#ed7953\"],[0.7777777777777778,\"#fb9f3a\"],[0.8888888888888888,\"#fdca26\"],[1.0,\"#f0f921\"]]}],\"surface\":[{\"type\":\"surface\",\"colorbar\":{\"outlinewidth\":0,\"ticks\":\"\"},\"colorscale\":[[0.0,\"#0d0887\"],[0.1111111111111111,\"#46039f\"],[0.2222222222222222,\"#7201a8\"],[0.3333333333333333,\"#9c179e\"],[0.4444444444444444,\"#bd3786\"],[0.5555555555555556,\"#d8576b\"],[0.6666666666666666,\"#ed7953\"],[0.7777777777777778,\"#fb9f3a\"],[0.8888888888888888,\"#fdca26\"],[1.0,\"#f0f921\"]]}],\"mesh3d\":[{\"type\":\"mesh3d\",\"colorbar\":{\"outlinewidth\":0,\"ticks\":\"\"}}],\"scatter\":[{\"fillpattern\":{\"fillmode\":\"overlay\",\"size\":10,\"solidity\":0.2},\"type\":\"scatter\"}],\"parcoords\":[{\"type\":\"parcoords\",\"line\":{\"colorbar\":{\"outlinewidth\":0,\"ticks\":\"\"}}}],\"scatterpolargl\":[{\"type\":\"scatterpolargl\",\"marker\":{\"colorbar\":{\"outlinewidth\":0,\"ticks\":\"\"}}}],\"bar\":[{\"error_x\":{\"color\":\"#2a3f5f\"},\"error_y\":{\"color\":\"#2a3f5f\"},\"marker\":{\"line\":{\"color\":\"#E5ECF6\",\"width\":0.5},\"pattern\":{\"fillmode\":\"overlay\",\"size\":10,\"solidity\":0.2}},\"type\":\"bar\"}],\"scattergeo\":[{\"type\":\"scattergeo\",\"marker\":{\"colorbar\":{\"outlinewidth\":0,\"ticks\":\"\"}}}],\"scatterpolar\":[{\"type\":\"scatterpolar\",\"marker\":{\"colorbar\":{\"outlinewidth\":0,\"ticks\":\"\"}}}],\"histogram\":[{\"marker\":{\"pattern\":{\"fillmode\":\"overlay\",\"size\":10,\"solidity\":0.2}},\"type\":\"histogram\"}],\"scattergl\":[{\"type\":\"scattergl\",\"marker\":{\"colorbar\":{\"outlinewidth\":0,\"ticks\":\"\"}}}],\"scatter3d\":[{\"type\":\"scatter3d\",\"line\":{\"colorbar\":{\"outlinewidth\":0,\"ticks\":\"\"}},\"marker\":{\"colorbar\":{\"outlinewidth\":0,\"ticks\":\"\"}}}],\"scattermapbox\":[{\"type\":\"scattermapbox\",\"marker\":{\"colorbar\":{\"outlinewidth\":0,\"ticks\":\"\"}}}],\"scatterternary\":[{\"type\":\"scatterternary\",\"marker\":{\"colorbar\":{\"outlinewidth\":0,\"ticks\":\"\"}}}],\"scattercarpet\":[{\"type\":\"scattercarpet\",\"marker\":{\"colorbar\":{\"outlinewidth\":0,\"ticks\":\"\"}}}],\"carpet\":[{\"aaxis\":{\"endlinecolor\":\"#2a3f5f\",\"gridcolor\":\"white\",\"linecolor\":\"white\",\"minorgridcolor\":\"white\",\"startlinecolor\":\"#2a3f5f\"},\"baxis\":{\"endlinecolor\":\"#2a3f5f\",\"gridcolor\":\"white\",\"linecolor\":\"white\",\"minorgridcolor\":\"white\",\"startlinecolor\":\"#2a3f5f\"},\"type\":\"carpet\"}],\"table\":[{\"cells\":{\"fill\":{\"color\":\"#EBF0F8\"},\"line\":{\"color\":\"white\"}},\"header\":{\"fill\":{\"color\":\"#C8D4E3\"},\"line\":{\"color\":\"white\"}},\"type\":\"table\"}],\"barpolar\":[{\"marker\":{\"line\":{\"color\":\"#E5ECF6\",\"width\":0.5},\"pattern\":{\"fillmode\":\"overlay\",\"size\":10,\"solidity\":0.2}},\"type\":\"barpolar\"}],\"pie\":[{\"automargin\":true,\"type\":\"pie\"}]},\"layout\":{\"autotypenumbers\":\"strict\",\"colorway\":[\"#636efa\",\"#EF553B\",\"#00cc96\",\"#ab63fa\",\"#FFA15A\",\"#19d3f3\",\"#FF6692\",\"#B6E880\",\"#FF97FF\",\"#FECB52\"],\"font\":{\"color\":\"#2a3f5f\"},\"hovermode\":\"closest\",\"hoverlabel\":{\"align\":\"left\"},\"paper_bgcolor\":\"white\",\"plot_bgcolor\":\"#E5ECF6\",\"polar\":{\"bgcolor\":\"#E5ECF6\",\"angularaxis\":{\"gridcolor\":\"white\",\"linecolor\":\"white\",\"ticks\":\"\"},\"radialaxis\":{\"gridcolor\":\"white\",\"linecolor\":\"white\",\"ticks\":\"\"}},\"ternary\":{\"bgcolor\":\"#E5ECF6\",\"aaxis\":{\"gridcolor\":\"white\",\"linecolor\":\"white\",\"ticks\":\"\"},\"baxis\":{\"gridcolor\":\"white\",\"linecolor\":\"white\",\"ticks\":\"\"},\"caxis\":{\"gridcolor\":\"white\",\"linecolor\":\"white\",\"ticks\":\"\"}},\"coloraxis\":{\"colorbar\":{\"outlinewidth\":0,\"ticks\":\"\"}},\"colorscale\":{\"sequential\":[[0.0,\"#0d0887\"],[0.1111111111111111,\"#46039f\"],[0.2222222222222222,\"#7201a8\"],[0.3333333333333333,\"#9c179e\"],[0.4444444444444444,\"#bd3786\"],[0.5555555555555556,\"#d8576b\"],[0.6666666666666666,\"#ed7953\"],[0.7777777777777778,\"#fb9f3a\"],[0.8888888888888888,\"#fdca26\"],[1.0,\"#f0f921\"]],\"sequentialminus\":[[0.0,\"#0d0887\"],[0.1111111111111111,\"#46039f\"],[0.2222222222222222,\"#7201a8\"],[0.3333333333333333,\"#9c179e\"],[0.4444444444444444,\"#bd3786\"],[0.5555555555555556,\"#d8576b\"],[0.6666666666666666,\"#ed7953\"],[0.7777777777777778,\"#fb9f3a\"],[0.8888888888888888,\"#fdca26\"],[1.0,\"#f0f921\"]],\"diverging\":[[0,\"#8e0152\"],[0.1,\"#c51b7d\"],[0.2,\"#de77ae\"],[0.3,\"#f1b6da\"],[0.4,\"#fde0ef\"],[0.5,\"#f7f7f7\"],[0.6,\"#e6f5d0\"],[0.7,\"#b8e186\"],[0.8,\"#7fbc41\"],[0.9,\"#4d9221\"],[1,\"#276419\"]]},\"xaxis\":{\"gridcolor\":\"white\",\"linecolor\":\"white\",\"ticks\":\"\",\"title\":{\"standoff\":15},\"zerolinecolor\":\"white\",\"automargin\":true,\"zerolinewidth\":2},\"yaxis\":{\"gridcolor\":\"white\",\"linecolor\":\"white\",\"ticks\":\"\",\"title\":{\"standoff\":15},\"zerolinecolor\":\"white\",\"automargin\":true,\"zerolinewidth\":2},\"scene\":{\"xaxis\":{\"backgroundcolor\":\"#E5ECF6\",\"gridcolor\":\"white\",\"linecolor\":\"white\",\"showbackground\":true,\"ticks\":\"\",\"zerolinecolor\":\"white\",\"gridwidth\":2},\"yaxis\":{\"backgroundcolor\":\"#E5ECF6\",\"gridcolor\":\"white\",\"linecolor\":\"white\",\"showbackground\":true,\"ticks\":\"\",\"zerolinecolor\":\"white\",\"gridwidth\":2},\"zaxis\":{\"backgroundcolor\":\"#E5ECF6\",\"gridcolor\":\"white\",\"linecolor\":\"white\",\"showbackground\":true,\"ticks\":\"\",\"zerolinecolor\":\"white\",\"gridwidth\":2}},\"shapedefaults\":{\"line\":{\"color\":\"#2a3f5f\"}},\"annotationdefaults\":{\"arrowcolor\":\"#2a3f5f\",\"arrowhead\":0,\"arrowwidth\":1},\"geo\":{\"bgcolor\":\"white\",\"landcolor\":\"#E5ECF6\",\"subunitcolor\":\"white\",\"showland\":true,\"showlakes\":true,\"lakecolor\":\"white\"},\"title\":{\"x\":0.05},\"mapbox\":{\"style\":\"light\"}}},\"margin\":{\"t\":50,\"l\":10,\"r\":10,\"b\":10},\"font\":{\"size\":14},\"title\":{\"text\":\"Social Media Platform Usage\"}},                        {\"responsive\": true}                    ).then(function(){\n",
              "                            \n",
              "var gd = document.getElementById('3e87cc24-6426-4d37-9e55-fcc776e2512a');\n",
              "var x = new MutationObserver(function (mutations, observer) {{\n",
              "        var display = window.getComputedStyle(gd).display;\n",
              "        if (!display || display === 'none') {{\n",
              "            console.log([gd, 'removed!']);\n",
              "            Plotly.purge(gd);\n",
              "            observer.disconnect();\n",
              "        }}\n",
              "}});\n",
              "\n",
              "// Listen for the removal of the full notebook cells\n",
              "var notebookContainer = gd.closest('#notebook-container');\n",
              "if (notebookContainer) {{\n",
              "    x.observe(notebookContainer, {childList: true});\n",
              "}}\n",
              "\n",
              "// Listen for the clearing of the current output cell\n",
              "var outputEl = gd.closest('.output');\n",
              "if (outputEl) {{\n",
              "    x.observe(outputEl, {childList: true});\n",
              "}}\n",
              "\n",
              "                        })                };                            </script>        </div>\n",
              "</body>\n",
              "</html>"
            ]
          },
          "metadata": {}
        }
      ]
    },
    {
      "cell_type": "markdown",
      "source": [
        "YouTube and Facebook are the most widely used social media at 85% and 84% respectively, closely followed by Instagram at 74%."
      ],
      "metadata": {
        "id": "JcO_CTNLbfDa"
      }
    },
    {
      "cell_type": "code",
      "source": [
        "# Define the bins for the histogram\n",
        "bins = [0, 1, 2, 3, 4, 5, 6]\n",
        "\n",
        "# Plot the histogram and get the counts\n",
        "counts, _, _ = plt.hist(df['Hours Online'], bins=bins, edgecolor='black')\n",
        "\n",
        "# Calculate the total number of data points\n",
        "total_data_points = len(df)\n",
        "\n",
        "# Calculate the percentages for each bin\n",
        "percentages = [count / total_data_points * 100 for count in counts]\n",
        "\n",
        "# Create a list of labels for each bin, showing the bin range\n",
        "labels = [f'{bins[i]}-{bins[i+1]}' for i in range(len(bins) - 1)]\n",
        "\n",
        "# Set the x-axis ticks to be in the middle of each bin\n",
        "plt.xticks([bins[i] + (bins[i+1] - bins[i]) / 2 for i in range(len(bins) - 1)], labels, rotation=45, ha='right')\n",
        "\n",
        "# Set the y-axis label\n",
        "plt.ylabel('Frequency')\n",
        "\n",
        "# Set the title of the histogram\n",
        "plt.title('Distribution of Hours Online')\n",
        "\n",
        "# Add text labels for the percentages above each bar\n",
        "for i in range(len(bins) - 1):\n",
        "    if percentages[i] > 0:\n",
        "        plt.text(bins[i] + (bins[i+1] - bins[i]) / 2, counts[i], f'{round(percentages[i]):d}%', ha='center', va='bottom')\n",
        "\n",
        "\n",
        "# Show the histogram\n",
        "plt.show()"
      ],
      "metadata": {
        "colab": {
          "base_uri": "https://localhost:8080/",
          "height": 464
        },
        "id": "vrs1tmKFcw97",
        "outputId": "48602634-b45c-498e-f022-32f37b17afc7"
      },
      "execution_count": 64,
      "outputs": [
        {
          "output_type": "display_data",
          "data": {
            "text/plain": [
              "<Figure size 640x480 with 1 Axes>"
            ],
            "image/png": "[encoded data removed]"
          },
          "metadata": {}
        }
      ]
    },
    {
      "cell_type": "markdown",
      "source": [
        "24% of respondents spend more than 5 hours online. 40% spend between 2 and 4 hours online.\n",
        "\n"
      ],
      "metadata": {
        "id": "fdnL5PIzfpuV"
      }
    }
  ]
}