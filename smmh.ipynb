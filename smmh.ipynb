{
  "nbformat": 4,
  "nbformat_minor": 0,
  "metadata": {
    "colab": {
      "provenance": [],
      "toc_visible": true,
      "collapsed_sections": [
        "j0_pjDyJD82u",
        "itUbM_rutEvV",
        "-HkpIFxPtWXv",
        "crgDn6y9txUk",
        "r6crzc6XuT13"
      ],
      "authorship_tag": "ABX9TyMZxnf+B6b1e2Y1elcdU1le",
      "include_colab_link": true
    },
    "kernelspec": {
      "name": "python3",
      "display_name": "Python 3"
    },
    "language_info": {
      "name": "python"
    }
  },
  "cells": [
    {
      "cell_type": "markdown",
      "metadata": {
        "id": "view-in-github",
        "colab_type": "text"
      },
      "source": [
        "<a href=\"https://colab.research.google.com/github/ookadeet/dspp1/blob/main/smmh.ipynb\" target=\"_parent\"><img src=\"https://colab.research.google.com/assets/colab-badge.svg\" alt=\"Open In Colab\"/></a>"
      ]
    },
    {
      "cell_type": "markdown",
      "source": [
        "#Social Media, The Attention Economy, and Mental Health\n",
        "This project uses [this publicly available dataset](https://www.kaggle.com/datasets/souvikahmed071/social-media-and-mental-health) to gauge the impact of time spent on social media, and the platforms used, on mental health outcomes."
      ],
      "metadata": {
        "id": "TXzeKZ2WTdGq"
      }
    },
    {
      "cell_type": "markdown",
      "source": [
        "# Data Cleaning and Transformation"
      ],
      "metadata": {
        "id": "j0_pjDyJD82u"
      }
    },
    {
      "cell_type": "markdown",
      "source": [
        "##Importing libraries and data"
      ],
      "metadata": {
        "id": "jtaoNOANk0AT"
      }
    },
    {
      "cell_type": "code",
      "execution_count": 1,
      "metadata": {
        "id": "Ki4OJXou1XaI"
      },
      "outputs": [],
      "source": [
        "#Import packages\n",
        "import pandas as pd\n",
        "import numpy as np\n",
        "import sklearn as sk\n",
        "import matplotlib.pyplot as plt\n",
        "import seaborn as sb"
      ]
    },
    {
      "cell_type": "code",
      "source": [
        "#Import data\n",
        "from google.colab import drive\n",
        "drive.mount('/content/drive', force_remount=True)\n",
        "path='/content/drive/My Drive/Colab Notebooks/data/smmh.xlsx'\n",
        "df = pd.read_excel(path)"
      ],
      "metadata": {
        "colab": {
          "base_uri": "https://localhost:8080/"
        },
        "id": "SV2gecq86YIY",
        "outputId": "7062a5aa-66dc-4c49-da5b-c8b4174abc4d"
      },
      "execution_count": 2,
      "outputs": [
        {
          "output_type": "stream",
          "name": "stdout",
          "text": [
            "Mounted at /content/drive\n"
          ]
        }
      ]
    },
    {
      "cell_type": "code",
      "source": [
        "#Explore layout of datafile\n",
        "df.head()"
      ],
      "metadata": {
        "colab": {
          "base_uri": "https://localhost:8080/",
          "height": 0
        },
        "id": "KqtOlauC_8a4",
        "outputId": "2efd4bcb-b80a-47c9-9b56-0b45c1fcad18"
      },
      "execution_count": 3,
      "outputs": [
        {
          "output_type": "execute_result",
          "data": {
            "text/plain": [
              "                     Timestamp  1. What is your age? 2. Gender  \\\n",
              "0  2022/04/18 7:18:47 PM GMT+6                  21.0      Male   \n",
              "1  2022/04/18 7:19:28 PM GMT+6                  21.0    Female   \n",
              "2  2022/04/18 7:25:58 PM GMT+6                  21.0    Female   \n",
              "3  2022/04/18 7:29:43 PM GMT+6                  21.0    Female   \n",
              "4  2022/04/18 7:33:31 PM GMT+6                  21.0    Female   \n",
              "\n",
              "  3. Relationship Status 4. Occupation Status  \\\n",
              "0      In a relationship   University Student   \n",
              "1                 Single   University Student   \n",
              "2                 Single   University Student   \n",
              "3                 Single   University Student   \n",
              "4                 Single   University Student   \n",
              "\n",
              "  5. What type of organizations are you affiliated with?  \\\n",
              "0                                         University       \n",
              "1                                         University       \n",
              "2                                         University       \n",
              "3                                         University       \n",
              "4                                         University       \n",
              "\n",
              "  6. Do you use social media?  \\\n",
              "0                         Yes   \n",
              "1                         Yes   \n",
              "2                         Yes   \n",
              "3                         Yes   \n",
              "4                         Yes   \n",
              "\n",
              "  7. What social media platforms do you commonly use?  \\\n",
              "0  Facebook;Twitter;Instagram;YouTube;Discord;Reddit    \n",
              "1  Facebook;Twitter;Instagram;YouTube;Discord;Reddit    \n",
              "2               Facebook;Instagram;YouTube;Pinterest    \n",
              "3                                 Facebook;Instagram    \n",
              "4                         Facebook;Instagram;YouTube    \n",
              "\n",
              "  8. What is the average time you spend on social media every day?  \\\n",
              "0                              Between 2 and 3 hours                 \n",
              "1                                  More than 5 hours                 \n",
              "2                              Between 3 and 4 hours                 \n",
              "3                                  More than 5 hours                 \n",
              "4                              Between 2 and 3 hours                 \n",
              "\n",
              "   9. How often do you find yourself using Social media without a specific purpose?  \\\n",
              "0                                                  5                                  \n",
              "1                                                  4                                  \n",
              "2                                                  3                                  \n",
              "3                                                  4                                  \n",
              "4                                                  3                                  \n",
              "\n",
              "   ...  11. Do you feel restless if you haven't used Social media in a while?  \\\n",
              "0  ...                                                  2                       \n",
              "1  ...                                                  2                       \n",
              "2  ...                                                  1                       \n",
              "3  ...                                                  1                       \n",
              "4  ...                                                  4                       \n",
              "\n",
              "   12. On a scale of 1 to 5, how easily distracted are you?  \\\n",
              "0                                                  5          \n",
              "1                                                  4          \n",
              "2                                                  2          \n",
              "3                                                  3          \n",
              "4                                                  4          \n",
              "\n",
              "   13. On a scale of 1 to 5, how much are you bothered by worries?  \\\n",
              "0                                                  2                 \n",
              "1                                                  5                 \n",
              "2                                                  5                 \n",
              "3                                                  5                 \n",
              "4                                                  5                 \n",
              "\n",
              "   14. Do you find it difficult to concentrate on things?  \\\n",
              "0                                                  5        \n",
              "1                                                  4        \n",
              "2                                                  4        \n",
              "3                                                  3        \n",
              "4                                                  5        \n",
              "\n",
              "   15. On a scale of 1-5, how often do you compare yourself to other successful people through the use of social media?  \\\n",
              "0                                                  2                                                                      \n",
              "1                                                  5                                                                      \n",
              "2                                                  3                                                                      \n",
              "3                                                  5                                                                      \n",
              "4                                                  3                                                                      \n",
              "\n",
              "   16. Following the previous question, how do you feel about these comparisons, generally speaking?  \\\n",
              "0                                                  3                                                   \n",
              "1                                                  1                                                   \n",
              "2                                                  3                                                   \n",
              "3                                                  1                                                   \n",
              "4                                                  3                                                   \n",
              "\n",
              "   17. How often do you look to seek validation from features of social media?  \\\n",
              "0                                                  2                             \n",
              "1                                                  1                             \n",
              "2                                                  1                             \n",
              "3                                                  2                             \n",
              "4                                                  3                             \n",
              "\n",
              "   18. How often do you feel depressed or down?  \\\n",
              "0                                             5   \n",
              "1                                             5   \n",
              "2                                             4   \n",
              "3                                             4   \n",
              "4                                             4   \n",
              "\n",
              "   19. On a scale of 1 to 5, how frequently does your interest in daily activities fluctuate?  \\\n",
              "0                                                  4                                            \n",
              "1                                                  4                                            \n",
              "2                                                  2                                            \n",
              "3                                                  3                                            \n",
              "4                                                  4                                            \n",
              "\n",
              "   20. On a scale of 1 to 5, how often do you face issues regarding sleep?  \n",
              "0                                                  5                        \n",
              "1                                                  5                        \n",
              "2                                                  5                        \n",
              "3                                                  2                        \n",
              "4                                                  1                        \n",
              "\n",
              "[5 rows x 21 columns]"
            ],
            "text/html": [
              "\n",
              "\n",
              "  <div id=\"df-a4ebb0c0-0745-4f06-9ef8-c00f4658060a\">\n",
              "    <div class=\"colab-df-container\">\n",
              "      <div>\n",
              "<style scoped>\n",
              "    .dataframe tbody tr th:only-of-type {\n",
              "        vertical-align: middle;\n",
              "    }\n",
              "\n",
              "    .dataframe tbody tr th {\n",
              "        vertical-align: top;\n",
              "    }\n",
              "\n",
              "    .dataframe thead th {\n",
              "        text-align: right;\n",
              "    }\n",
              "</style>\n",
              "<table border=\"1\" class=\"dataframe\">\n",
              "  <thead>\n",
              "    <tr style=\"text-align: right;\">\n",
              "      <th></th>\n",
              "      <th>Timestamp</th>\n",
              "      <th>1. What is your age?</th>\n",
              "      <th>2. Gender</th>\n",
              "      <th>3. Relationship Status</th>\n",
              "      <th>4. Occupation Status</th>\n",
              "      <th>5. What type of organizations are you affiliated with?</th>\n",
              "      <th>6. Do you use social media?</th>\n",
              "      <th>7. What social media platforms do you commonly use?</th>\n",
              "      <th>8. What is the average time you spend on social media every day?</th>\n",
              "      <th>9. How often do you find yourself using Social media without a specific purpose?</th>\n",
              "      <th>...</th>\n",
              "      <th>11. Do you feel restless if you haven't used Social media in a while?</th>\n",
              "      <th>12. On a scale of 1 to 5, how easily distracted are you?</th>\n",
              "      <th>13. On a scale of 1 to 5, how much are you bothered by worries?</th>\n",
              "      <th>14. Do you find it difficult to concentrate on things?</th>\n",
              "      <th>15. On a scale of 1-5, how often do you compare yourself to other successful people through the use of social media?</th>\n",
              "      <th>16. Following the previous question, how do you feel about these comparisons, generally speaking?</th>\n",
              "      <th>17. How often do you look to seek validation from features of social media?</th>\n",
              "      <th>18. How often do you feel depressed or down?</th>\n",
              "      <th>19. On a scale of 1 to 5, how frequently does your interest in daily activities fluctuate?</th>\n",
              "      <th>20. On a scale of 1 to 5, how often do you face issues regarding sleep?</th>\n",
              "    </tr>\n",
              "  </thead>\n",
              "  <tbody>\n",
              "    <tr>\n",
              "      <th>0</th>\n",
              "      <td>2022/04/18 7:18:47 PM GMT+6</td>\n",
              "      <td>21.0</td>\n",
              "      <td>Male</td>\n",
              "      <td>In a relationship</td>\n",
              "      <td>University Student</td>\n",
              "      <td>University</td>\n",
              "      <td>Yes</td>\n",
              "      <td>Facebook;Twitter;Instagram;YouTube;Discord;Reddit</td>\n",
              "      <td>Between 2 and 3 hours</td>\n",
              "      <td>5</td>\n",
              "      <td>...</td>\n",
              "      <td>2</td>\n",
              "      <td>5</td>\n",
              "      <td>2</td>\n",
              "      <td>5</td>\n",
              "      <td>2</td>\n",
              "      <td>3</td>\n",
              "      <td>2</td>\n",
              "      <td>5</td>\n",
              "      <td>4</td>\n",
              "      <td>5</td>\n",
              "    </tr>\n",
              "    <tr>\n",
              "      <th>1</th>\n",
              "      <td>2022/04/18 7:19:28 PM GMT+6</td>\n",
              "      <td>21.0</td>\n",
              "      <td>Female</td>\n",
              "      <td>Single</td>\n",
              "      <td>University Student</td>\n",
              "      <td>University</td>\n",
              "      <td>Yes</td>\n",
              "      <td>Facebook;Twitter;Instagram;YouTube;Discord;Reddit</td>\n",
              "      <td>More than 5 hours</td>\n",
              "      <td>4</td>\n",
              "      <td>...</td>\n",
              "      <td>2</td>\n",
              "      <td>4</td>\n",
              "      <td>5</td>\n",
              "      <td>4</td>\n",
              "      <td>5</td>\n",
              "      <td>1</td>\n",
              "      <td>1</td>\n",
              "      <td>5</td>\n",
              "      <td>4</td>\n",
              "      <td>5</td>\n",
              "    </tr>\n",
              "    <tr>\n",
              "      <th>2</th>\n",
              "      <td>2022/04/18 7:25:58 PM GMT+6</td>\n",
              "      <td>21.0</td>\n",
              "      <td>Female</td>\n",
              "      <td>Single</td>\n",
              "      <td>University Student</td>\n",
              "      <td>University</td>\n",
              "      <td>Yes</td>\n",
              "      <td>Facebook;Instagram;YouTube;Pinterest</td>\n",
              "      <td>Between 3 and 4 hours</td>\n",
              "      <td>3</td>\n",
              "      <td>...</td>\n",
              "      <td>1</td>\n",
              "      <td>2</td>\n",
              "      <td>5</td>\n",
              "      <td>4</td>\n",
              "      <td>3</td>\n",
              "      <td>3</td>\n",
              "      <td>1</td>\n",
              "      <td>4</td>\n",
              "      <td>2</td>\n",
              "      <td>5</td>\n",
              "    </tr>\n",
              "    <tr>\n",
              "      <th>3</th>\n",
              "      <td>2022/04/18 7:29:43 PM GMT+6</td>\n",
              "      <td>21.0</td>\n",
              "      <td>Female</td>\n",
              "      <td>Single</td>\n",
              "      <td>University Student</td>\n",
              "      <td>University</td>\n",
              "      <td>Yes</td>\n",
              "      <td>Facebook;Instagram</td>\n",
              "      <td>More than 5 hours</td>\n",
              "      <td>4</td>\n",
              "      <td>...</td>\n",
              "      <td>1</td>\n",
              "      <td>3</td>\n",
              "      <td>5</td>\n",
              "      <td>3</td>\n",
              "      <td>5</td>\n",
              "      <td>1</td>\n",
              "      <td>2</td>\n",
              "      <td>4</td>\n",
              "      <td>3</td>\n",
              "      <td>2</td>\n",
              "    </tr>\n",
              "    <tr>\n",
              "      <th>4</th>\n",
              "      <td>2022/04/18 7:33:31 PM GMT+6</td>\n",
              "      <td>21.0</td>\n",
              "      <td>Female</td>\n",
              "      <td>Single</td>\n",
              "      <td>University Student</td>\n",
              "      <td>University</td>\n",
              "      <td>Yes</td>\n",
              "      <td>Facebook;Instagram;YouTube</td>\n",
              "      <td>Between 2 and 3 hours</td>\n",
              "      <td>3</td>\n",
              "      <td>...</td>\n",
              "      <td>4</td>\n",
              "      <td>4</td>\n",
              "      <td>5</td>\n",
              "      <td>5</td>\n",
              "      <td>3</td>\n",
              "      <td>3</td>\n",
              "      <td>3</td>\n",
              "      <td>4</td>\n",
              "      <td>4</td>\n",
              "      <td>1</td>\n",
              "    </tr>\n",
              "  </tbody>\n",
              "</table>\n",
              "<p>5 rows × 21 columns</p>\n",
              "</div>\n",
              "      <button class=\"colab-df-convert\" onclick=\"convertToInteractive('df-a4ebb0c0-0745-4f06-9ef8-c00f4658060a')\"\n",
              "              title=\"Convert this dataframe to an interactive table.\"\n",
              "              style=\"display:none;\">\n",
              "\n",
              "  <svg xmlns=\"http://www.w3.org/2000/svg\" height=\"24px\"viewBox=\"0 0 24 24\"\n",
              "       width=\"24px\">\n",
              "    <path d=\"M0 0h24v24H0V0z\" fill=\"none\"/>\n",
              "    <path d=\"M18.56 5.44l.94 2.06.94-2.06 2.06-.94-2.06-.94-.94-2.06-.94 2.06-2.06.94zm-11 1L8.5 8.5l.94-2.06 2.06-.94-2.06-.94L8.5 2.5l-.94 2.06-2.06.94zm10 10l.94 2.06.94-2.06 2.06-.94-2.06-.94-.94-2.06-.94 2.06-2.06.94z\"/><path d=\"M17.41 7.96l-1.37-1.37c-.4-.4-.92-.59-1.43-.59-.52 0-1.04.2-1.43.59L10.3 9.45l-7.72 7.72c-.78.78-.78 2.05 0 2.83L4 21.41c.39.39.9.59 1.41.59.51 0 1.02-.2 1.41-.59l7.78-7.78 2.81-2.81c.8-.78.8-2.07 0-2.86zM5.41 20L4 18.59l7.72-7.72 1.47 1.35L5.41 20z\"/>\n",
              "  </svg>\n",
              "      </button>\n",
              "\n",
              "\n",
              "\n",
              "    <div id=\"df-bbd2ce84-52a3-4be6-a7bb-7ea9ea8a62a4\">\n",
              "      <button class=\"colab-df-quickchart\" onclick=\"quickchart('df-bbd2ce84-52a3-4be6-a7bb-7ea9ea8a62a4')\"\n",
              "              title=\"Suggest charts.\"\n",
              "              style=\"display:none;\">\n",
              "\n",
              "<svg xmlns=\"http://www.w3.org/2000/svg\" height=\"24px\"viewBox=\"0 0 24 24\"\n",
              "     width=\"24px\">\n",
              "    <g>\n",
              "        <path d=\"M19 3H5c-1.1 0-2 .9-2 2v14c0 1.1.9 2 2 2h14c1.1 0 2-.9 2-2V5c0-1.1-.9-2-2-2zM9 17H7v-7h2v7zm4 0h-2V7h2v10zm4 0h-2v-4h2v4z\"/>\n",
              "    </g>\n",
              "</svg>\n",
              "      </button>\n",
              "    </div>\n",
              "\n",
              "<style>\n",
              "  .colab-df-quickchart {\n",
              "    background-color: #E8F0FE;\n",
              "    border: none;\n",
              "    border-radius: 50%;\n",
              "    cursor: pointer;\n",
              "    display: none;\n",
              "    fill: #1967D2;\n",
              "    height: 32px;\n",
              "    padding: 0 0 0 0;\n",
              "    width: 32px;\n",
              "  }\n",
              "\n",
              "  .colab-df-quickchart:hover {\n",
              "    background-color: #E2EBFA;\n",
              "    box-shadow: 0px 1px 2px rgba(60, 64, 67, 0.3), 0px 1px 3px 1px rgba(60, 64, 67, 0.15);\n",
              "    fill: #174EA6;\n",
              "  }\n",
              "\n",
              "  [theme=dark] .colab-df-quickchart {\n",
              "    background-color: #3B4455;\n",
              "    fill: #D2E3FC;\n",
              "  }\n",
              "\n",
              "  [theme=dark] .colab-df-quickchart:hover {\n",
              "    background-color: #434B5C;\n",
              "    box-shadow: 0px 1px 3px 1px rgba(0, 0, 0, 0.15);\n",
              "    filter: drop-shadow(0px 1px 2px rgba(0, 0, 0, 0.3));\n",
              "    fill: #FFFFFF;\n",
              "  }\n",
              "</style>\n",
              "\n",
              "    <script>\n",
              "      async function quickchart(key) {\n",
              "        const containerElement = document.querySelector('#' + key);\n",
              "        const charts = await google.colab.kernel.invokeFunction(\n",
              "            'suggestCharts', [key], {});\n",
              "      }\n",
              "    </script>\n",
              "\n",
              "      <script>\n",
              "\n",
              "function displayQuickchartButton(domScope) {\n",
              "  let quickchartButtonEl =\n",
              "    domScope.querySelector('#df-bbd2ce84-52a3-4be6-a7bb-7ea9ea8a62a4 button.colab-df-quickchart');\n",
              "  quickchartButtonEl.style.display =\n",
              "    google.colab.kernel.accessAllowed ? 'block' : 'none';\n",
              "}\n",
              "\n",
              "        displayQuickchartButton(document);\n",
              "      </script>\n",
              "      <style>\n",
              "    .colab-df-container {\n",
              "      display:flex;\n",
              "      flex-wrap:wrap;\n",
              "      gap: 12px;\n",
              "    }\n",
              "\n",
              "    .colab-df-convert {\n",
              "      background-color: #E8F0FE;\n",
              "      border: none;\n",
              "      border-radius: 50%;\n",
              "      cursor: pointer;\n",
              "      display: none;\n",
              "      fill: #1967D2;\n",
              "      height: 32px;\n",
              "      padding: 0 0 0 0;\n",
              "      width: 32px;\n",
              "    }\n",
              "\n",
              "    .colab-df-convert:hover {\n",
              "      background-color: #E2EBFA;\n",
              "      box-shadow: 0px 1px 2px rgba(60, 64, 67, 0.3), 0px 1px 3px 1px rgba(60, 64, 67, 0.15);\n",
              "      fill: #174EA6;\n",
              "    }\n",
              "\n",
              "    [theme=dark] .colab-df-convert {\n",
              "      background-color: #3B4455;\n",
              "      fill: #D2E3FC;\n",
              "    }\n",
              "\n",
              "    [theme=dark] .colab-df-convert:hover {\n",
              "      background-color: #434B5C;\n",
              "      box-shadow: 0px 1px 3px 1px rgba(0, 0, 0, 0.15);\n",
              "      filter: drop-shadow(0px 1px 2px rgba(0, 0, 0, 0.3));\n",
              "      fill: #FFFFFF;\n",
              "    }\n",
              "  </style>\n",
              "\n",
              "      <script>\n",
              "        const buttonEl =\n",
              "          document.querySelector('#df-a4ebb0c0-0745-4f06-9ef8-c00f4658060a button.colab-df-convert');\n",
              "        buttonEl.style.display =\n",
              "          google.colab.kernel.accessAllowed ? 'block' : 'none';\n",
              "\n",
              "        async function convertToInteractive(key) {\n",
              "          const element = document.querySelector('#df-a4ebb0c0-0745-4f06-9ef8-c00f4658060a');\n",
              "          const dataTable =\n",
              "            await google.colab.kernel.invokeFunction('convertToInteractive',\n",
              "                                                     [key], {});\n",
              "          if (!dataTable) return;\n",
              "\n",
              "          const docLinkHtml = 'Like what you see? Visit the ' +\n",
              "            '<a target=\"_blank\" href=https://colab.research.google.com/notebooks/data_table.ipynb>data table notebook</a>'\n",
              "            + ' to learn more about interactive tables.';\n",
              "          element.innerHTML = '';\n",
              "          dataTable['output_type'] = 'display_data';\n",
              "          await google.colab.output.renderOutput(dataTable, element);\n",
              "          const docLink = document.createElement('div');\n",
              "          docLink.innerHTML = docLinkHtml;\n",
              "          element.appendChild(docLink);\n",
              "        }\n",
              "      </script>\n",
              "    </div>\n",
              "  </div>\n"
            ]
          },
          "metadata": {},
          "execution_count": 3
        }
      ]
    },
    {
      "cell_type": "markdown",
      "source": [
        "##Renaming and dropping columns"
      ],
      "metadata": {
        "id": "EdKnl_PzlTef"
      }
    },
    {
      "cell_type": "code",
      "source": [
        "#Print column names in order to copy and paste into code for renaming\n",
        "for col in df.columns:\n",
        "    print(col)"
      ],
      "metadata": {
        "colab": {
          "base_uri": "https://localhost:8080/"
        },
        "id": "vlETy5VTAQBs",
        "outputId": "5765d995-babd-4ba2-8e78-2b52f16b833e"
      },
      "execution_count": 4,
      "outputs": [
        {
          "output_type": "stream",
          "name": "stdout",
          "text": [
            "Timestamp\n",
            "1. What is your age?\n",
            "2. Gender\n",
            "3. Relationship Status\n",
            "4. Occupation Status\n",
            "5. What type of organizations are you affiliated with?\n",
            "6. Do you use social media?\n",
            "7. What social media platforms do you commonly use?\n",
            "8. What is the average time you spend on social media every day?\n",
            "9. How often do you find yourself using Social media without a specific purpose?\n",
            "10. How often do you get distracted by Social media when you are busy doing something?\n",
            "11. Do you feel restless if you haven't used Social media in a while?\n",
            "12. On a scale of 1 to 5, how easily distracted are you?\n",
            "13. On a scale of 1 to 5, how much are you bothered by worries?\n",
            "14. Do you find it difficult to concentrate on things?\n",
            "15. On a scale of 1-5, how often do you compare yourself to other successful people through the use of social media?\n",
            "16. Following the previous question, how do you feel about these comparisons, generally speaking?\n",
            "17. How often do you look to seek validation from features of social media?\n",
            "18. How often do you feel depressed or down?\n",
            "19. On a scale of 1 to 5, how frequently does your interest in daily activities fluctuate?\n",
            "20. On a scale of 1 to 5, how often do you face issues regarding sleep?\n"
          ]
        }
      ]
    },
    {
      "cell_type": "code",
      "source": [
        "print(df['5. What type of organizations are you affiliated with?'].unique())"
      ],
      "metadata": {
        "colab": {
          "base_uri": "https://localhost:8080/"
        },
        "id": "Z3_ViqFor4Nv",
        "outputId": "fb08821f-e811-456b-f454-6fa26282188c"
      },
      "execution_count": 5,
      "outputs": [
        {
          "output_type": "stream",
          "name": "stdout",
          "text": [
            "['University' 'Private' nan 'School;University' 'Company' 'School;Private'\n",
            " 'University;Company' 'Goverment' 'Company;Private' 'School'\n",
            " 'University;Goverment;Private' 'University;Company;Private'\n",
            " 'University;Private' 'University;N/A' 'School;University;Private'\n",
            " 'University;Goverment' 'University;Company;Goverment' 'School;Company'\n",
            " 'School;N/A']\n"
          ]
        }
      ]
    },
    {
      "cell_type": "markdown",
      "source": [
        "Neither the timstamp nor affiliated organisation columns are deemed necessary for the analysis as the timestamp only records when answers were captured, while the affiliated organisations column has rows that contain multiple answers"
      ],
      "metadata": {
        "id": "AbP1MbmXsfWB"
      }
    },
    {
      "cell_type": "code",
      "source": [
        "#Drop columns not needed for analysis\n",
        "df = df.drop(['Timestamp','5. What type of organizations are you affiliated with?','6. Do you use social media?'], axis=1)"
      ],
      "metadata": {
        "id": "rvfnhFPOATAv"
      },
      "execution_count": 6,
      "outputs": []
    },
    {
      "cell_type": "markdown",
      "source": [
        "##Rename columns for easier referencing"
      ],
      "metadata": {
        "id": "itUbM_rutEvV"
      }
    },
    {
      "cell_type": "code",
      "source": [
        "df.rename(columns = {'1. What is your age?':'Age',\n",
        "                     '2. Gender':'Gender',\n",
        "                     '3. Relationship Status':'Relationship Status',\n",
        "                     '4. Occupation Status':'Occupation',\n",
        "                     '7. What social media platforms do you commonly use?':'Platforms',\n",
        "                     '8. What is the average time you spend on social media every day?':'Hours Online',\n",
        "                     '9. How often do you find yourself using Social media without a specific purpose?':'ADHD1',\n",
        "                     '10. How often do you get distracted by Social media when you are busy doing something?':'ADHD2',\n",
        "                     \"11. Do you feel restless if you haven't used Social media in a while?\":'Anx1',\n",
        "                     '12. On a scale of 1 to 5, how easily distracted are you?':'ADHD3',\n",
        "                     '13. On a scale of 1 to 5, how much are you bothered by worries?':'Anx2',\n",
        "                     '14. Do you find it difficult to concentrate on things?':'ADHD4',\n",
        "                     '15. On a scale of 1-5, how often do you compare yourself to other successful people through the use of social media?':'SE1',\n",
        "                     '16. Following the previous question, how do you feel about these comparisons, generally speaking?':'SE2',\n",
        "                     '17. How often do you look to seek validation from features of social media?':'SE3',\n",
        "                     '18. How often do you feel depressed or down?':'Dep1',\n",
        "                     '19. On a scale of 1 to 5, how frequently does your interest in daily activities fluctuate?':'Dep2',\n",
        "                     '20. On a scale of 1 to 5, how often do you face issues regarding sleep?':'Dep3' },inplace=True)"
      ],
      "metadata": {
        "id": "UHgEjagKBLRN"
      },
      "execution_count": 7,
      "outputs": []
    },
    {
      "cell_type": "code",
      "source": [
        "#Check updated column list\n",
        "for col in df.columns:\n",
        "    print(col)"
      ],
      "metadata": {
        "colab": {
          "base_uri": "https://localhost:8080/"
        },
        "id": "NbW7Y_nACx-C",
        "outputId": "bcf433b1-e4cc-438c-b920-bb82f679fc75"
      },
      "execution_count": 8,
      "outputs": [
        {
          "output_type": "stream",
          "name": "stdout",
          "text": [
            "Age\n",
            "Gender\n",
            "Relationship Status\n",
            "Occupation\n",
            "Platforms\n",
            "Hours Online\n",
            "ADHD1\n",
            "ADHD2\n",
            "Anx1\n",
            "ADHD3\n",
            "Anx2\n",
            "ADHD4\n",
            "SE1\n",
            "SE2\n",
            "SE3\n",
            "Dep1\n",
            "Dep2\n",
            "Dep3\n"
          ]
        }
      ]
    },
    {
      "cell_type": "markdown",
      "source": [
        "##Exploring and amending values"
      ],
      "metadata": {
        "id": "AYpqMSqJljq9"
      }
    },
    {
      "cell_type": "code",
      "source": [
        "#Detect null values\n",
        "df.isnull().values.any()"
      ],
      "metadata": {
        "colab": {
          "base_uri": "https://localhost:8080/"
        },
        "id": "wXqPDUhJEzBV",
        "outputId": "154aaa88-73ca-4971-b72e-ef61f1c56b99"
      },
      "execution_count": 9,
      "outputs": [
        {
          "output_type": "execute_result",
          "data": {
            "text/plain": [
              "False"
            ]
          },
          "metadata": {},
          "execution_count": 9
        }
      ]
    },
    {
      "cell_type": "code",
      "source": [
        "#Check responses in gender column for any inconsistencies\n",
        "print(df.Gender.unique())"
      ],
      "metadata": {
        "colab": {
          "base_uri": "https://localhost:8080/"
        },
        "id": "HcFfR2LvE0Fj",
        "outputId": "f2b5112b-d1aa-4c9a-c049-42da2bb4defc"
      },
      "execution_count": 10,
      "outputs": [
        {
          "output_type": "stream",
          "name": "stdout",
          "text": [
            "['Male' 'Female' 'Nonbinary ' 'Non-binary' 'NB' 'unsure ' 'Trans'\n",
            " 'Non binary ' 'There are others???']\n"
          ]
        }
      ]
    },
    {
      "cell_type": "markdown",
      "source": [
        "###Gender\n",
        "The row with the answer \"There are others???\" was dropped, as a judgement can be made that they fall into either \"Male\" or \"Female\", so including them in an \"Others\" category would skew the data"
      ],
      "metadata": {
        "id": "-HkpIFxPtWXv"
      }
    },
    {
      "cell_type": "code",
      "source": [
        "#Drop row with 'There are others???' as may skew data\n",
        "df = df[df.Gender != 'There are others???']"
      ],
      "metadata": {
        "id": "ORo53I_fF7DK"
      },
      "execution_count": 11,
      "outputs": []
    },
    {
      "cell_type": "code",
      "source": [
        "#Assign anything not male or female as \"Other\", code from ChatGPT\n",
        "df.loc[df['Gender'].isin(['Nonbinary ', 'Non-binary', 'NB', 'unsure ', 'Trans', 'Non binary ']), 'Gender'] = 'Other'\n",
        "print(df.Gender.unique())"
      ],
      "metadata": {
        "colab": {
          "base_uri": "https://localhost:8080/"
        },
        "id": "m55kUBgiHjfo",
        "outputId": "d1bc6361-69dd-4047-fdf3-a4047e50181c"
      },
      "execution_count": 12,
      "outputs": [
        {
          "output_type": "stream",
          "name": "stdout",
          "text": [
            "['Male' 'Female' 'Other']\n"
          ]
        }
      ]
    },
    {
      "cell_type": "code",
      "source": [
        "#Check data types for any inconsistencies\n",
        "df.info()"
      ],
      "metadata": {
        "colab": {
          "base_uri": "https://localhost:8080/"
        },
        "id": "9KCQe2e5IoeV",
        "outputId": "2c6879fb-f4ba-4658-b4c9-1327fcbbb976"
      },
      "execution_count": 13,
      "outputs": [
        {
          "output_type": "stream",
          "name": "stdout",
          "text": [
            "<class 'pandas.core.frame.DataFrame'>\n",
            "Int64Index: 473 entries, 0 to 473\n",
            "Data columns (total 18 columns):\n",
            " #   Column               Non-Null Count  Dtype  \n",
            "---  ------               --------------  -----  \n",
            " 0   Age                  473 non-null    float64\n",
            " 1   Gender               473 non-null    object \n",
            " 2   Relationship Status  473 non-null    object \n",
            " 3   Occupation           473 non-null    object \n",
            " 4   Platforms            473 non-null    object \n",
            " 5   Hours Online         473 non-null    object \n",
            " 6   ADHD1                473 non-null    int64  \n",
            " 7   ADHD2                473 non-null    int64  \n",
            " 8   Anx1                 473 non-null    int64  \n",
            " 9   ADHD3                473 non-null    int64  \n",
            " 10  Anx2                 473 non-null    int64  \n",
            " 11  ADHD4                473 non-null    int64  \n",
            " 12  SE1                  473 non-null    int64  \n",
            " 13  SE2                  473 non-null    int64  \n",
            " 14  SE3                  473 non-null    int64  \n",
            " 15  Dep1                 473 non-null    int64  \n",
            " 16  Dep2                 473 non-null    int64  \n",
            " 17  Dep3                 473 non-null    int64  \n",
            "dtypes: float64(1), int64(12), object(5)\n",
            "memory usage: 70.2+ KB\n"
          ]
        }
      ]
    },
    {
      "cell_type": "code",
      "source": [
        "#Convert Age to integer from float\n",
        "df[df.columns[df.columns.get_loc('Age')]] = df['Age'].astype('int64')"
      ],
      "metadata": {
        "id": "-r0W39qYIwpJ"
      },
      "execution_count": 14,
      "outputs": []
    },
    {
      "cell_type": "code",
      "source": [
        "#Explore other column entries for issues\n",
        "print(df['Relationship Status'].unique())"
      ],
      "metadata": {
        "colab": {
          "base_uri": "https://localhost:8080/"
        },
        "id": "Gjw7ezvtUHhf",
        "outputId": "e399dcc4-07aa-4f24-8071-68632ca56ae6"
      },
      "execution_count": 15,
      "outputs": [
        {
          "output_type": "stream",
          "name": "stdout",
          "text": [
            "['In a relationship' 'Single' 'Married' 'Divorced']\n"
          ]
        }
      ]
    },
    {
      "cell_type": "code",
      "source": [
        "print(df.Occupation.unique())"
      ],
      "metadata": {
        "colab": {
          "base_uri": "https://localhost:8080/"
        },
        "id": "MXI_wBjQVA5b",
        "outputId": "b99d26b3-9d55-47c3-ba68-9a5c3f80845e"
      },
      "execution_count": 16,
      "outputs": [
        {
          "output_type": "stream",
          "name": "stdout",
          "text": [
            "['University Student' 'School Student' 'Salaried Worker' 'Retired']\n"
          ]
        }
      ]
    },
    {
      "cell_type": "code",
      "source": [
        "print(df.Platforms.unique())"
      ],
      "metadata": {
        "colab": {
          "base_uri": "https://localhost:8080/"
        },
        "id": "ZSDAhnvfVyjZ",
        "outputId": "30ec845f-14e7-44fc-da25-44c67a26671e"
      },
      "execution_count": 17,
      "outputs": [
        {
          "output_type": "stream",
          "name": "stdout",
          "text": [
            "['Facebook;Twitter;Instagram;YouTube;Discord;Reddit'\n",
            " 'Facebook;Instagram;YouTube;Pinterest' 'Facebook;Instagram'\n",
            " 'Facebook;Instagram;YouTube'\n",
            " 'Facebook;Twitter;Instagram;YouTube;Discord;Pinterest;TikTok'\n",
            " 'Facebook;Instagram;YouTube;Snapchat;TikTok' 'Reddit;Pinterest'\n",
            " 'Facebook;Instagram;YouTube;Discord'\n",
            " 'Facebook;Instagram;YouTube;Snapchat;Discord;Reddit;Pinterest;TikTok'\n",
            " 'Facebook;Twitter;Instagram;YouTube;Snapchat;Discord;Reddit;Pinterest'\n",
            " 'Facebook;Twitter;Instagram;YouTube;Snapchat;Reddit;Pinterest'\n",
            " 'Facebook;YouTube;Pinterest' 'Facebook;Instagram;YouTube;Reddit'\n",
            " 'Facebook;YouTube;Discord' 'Facebook;YouTube;Discord;Reddit'\n",
            " 'Facebook;Twitter;Instagram;YouTube'\n",
            " 'Facebook;Instagram;YouTube;Discord;Reddit'\n",
            " 'Facebook;Twitter;Instagram;YouTube;Discord;Reddit;TikTok'\n",
            " 'Facebook;Instagram;YouTube;Snapchat;Pinterest'\n",
            " 'Facebook;Twitter;YouTube;Discord' 'Facebook;YouTube'\n",
            " 'Facebook;Instagram;YouTube;Snapchat;Discord;Pinterest;TikTok'\n",
            " 'Facebook;Instagram;YouTube;Snapchat;Discord'\n",
            " 'Facebook;Instagram;YouTube;TikTok'\n",
            " 'Facebook;Instagram;YouTube;Discord;Pinterest'\n",
            " 'Facebook;Twitter;Instagram;YouTube;Discord'\n",
            " 'Facebook;Twitter;Instagram;YouTube;Snapchat;Discord;Reddit'\n",
            " 'Facebook;Instagram;YouTube;Snapchat' 'YouTube' 'Twitter;Discord;Reddit'\n",
            " 'Instagram;YouTube;Reddit;Pinterest' 'Twitter;YouTube;Reddit'\n",
            " 'Facebook;Twitter;Instagram;YouTube;Snapchat;Discord;Reddit;Pinterest;TikTok'\n",
            " 'YouTube;Snapchat;Discord' 'Facebook' 'Discord;Reddit'\n",
            " 'YouTube;Discord;Reddit'\n",
            " 'Facebook;Twitter;Instagram;YouTube;Snapchat;Reddit;TikTok'\n",
            " 'Facebook;Instagram;YouTube;Snapchat;Discord;Reddit' 'Instagram;Reddit'\n",
            " 'YouTube;Reddit' 'Reddit' 'Facebook;Instagram;Reddit;TikTok'\n",
            " 'Twitter;Instagram;YouTube;Reddit;TikTok'\n",
            " 'YouTube;Snapchat;Discord;Reddit' 'Instagram;YouTube'\n",
            " 'Instagram;YouTube;Discord;Reddit'\n",
            " 'Twitter;Instagram;YouTube;Snapchat;Reddit;Pinterest;TikTok'\n",
            " 'Twitter;YouTube;Discord;Reddit' 'Facebook;YouTube;Reddit'\n",
            " 'Facebook;Twitter;Instagram;YouTube;Snapchat;Discord;TikTok'\n",
            " 'Twitter;Instagram;YouTube;Snapchat;Discord;Reddit'\n",
            " 'Facebook;Instagram;YouTube;Snapchat;Discord;Reddit;Pinterest'\n",
            " 'Instagram;YouTube;Snapchat;Discord;Reddit'\n",
            " 'Facebook;Twitter;Instagram;YouTube;Reddit'\n",
            " 'Facebook;Twitter;Instagram;YouTube;Snapchat'\n",
            " 'Twitter;Instagram;YouTube;Snapchat;Discord;Reddit;TikTok' 'Instagram'\n",
            " 'Instagram;YouTube;Discord'\n",
            " 'Facebook;Instagram;YouTube;Snapchat;Discord;TikTok'\n",
            " 'Facebook;Twitter;Instagram;YouTube;Snapchat;Pinterest'\n",
            " 'Facebook;Instagram;TikTok' 'Facebook;Instagram;Snapchat'\n",
            " 'Facebook;YouTube;Snapchat;Pinterest'\n",
            " 'Facebook;Twitter;Instagram;YouTube;Snapchat;Discord'\n",
            " 'Facebook;Instagram;YouTube;Snapchat;Pinterest;TikTok'\n",
            " 'Instagram;YouTube;Snapchat;Pinterest'\n",
            " 'Facebook;Twitter;Instagram;YouTube;Pinterest'\n",
            " 'Facebook;Twitter;Instagram;YouTube;Snapchat;Discord;Pinterest'\n",
            " 'Twitter;Instagram;YouTube' 'Facebook;Twitter;YouTube' 'Twitter'\n",
            " 'Facebook;Instagram;YouTube;Pinterest;TikTok' 'Twitter;YouTube'\n",
            " 'Facebook;Twitter' 'Instagram;YouTube;Pinterest' 'Pinterest'\n",
            " 'Facebook;YouTube;TikTok'\n",
            " 'Facebook;Twitter;Instagram;YouTube;Reddit;Pinterest;TikTok'\n",
            " 'Facebook;Twitter;Instagram;YouTube;Snapchat;Discord;Pinterest;TikTok'\n",
            " 'Facebook;Instagram;Pinterest'\n",
            " 'Facebook;YouTube;Discord;Reddit;Pinterest'\n",
            " 'Facebook;Twitter;YouTube;Discord;Reddit'\n",
            " 'Facebook;Instagram;YouTube;Discord;Reddit;TikTok'\n",
            " 'Facebook;Discord;Reddit' 'Instagram;Discord;Reddit;Pinterest;TikTok'\n",
            " 'Twitter;Instagram;YouTube;Snapchat;Discord;Reddit;Pinterest;TikTok'\n",
            " 'Facebook;YouTube;Snapchat'\n",
            " 'Facebook;Instagram;YouTube;Snapchat;Discord;Pinterest'\n",
            " 'Facebook;YouTube;Discord;Pinterest'\n",
            " 'Instagram;YouTube;Discord;Reddit;TikTok' 'TikTok'\n",
            " 'Facebook;Twitter;Instagram;YouTube;Snapchat;TikTok'\n",
            " 'Facebook;Instagram;YouTube;Discord;Pinterest;TikTok'\n",
            " 'Facebook;Instagram;Discord'\n",
            " 'Facebook;Twitter;Instagram;YouTube;Discord;Reddit;Pinterest;TikTok'\n",
            " 'Facebook;Twitter;YouTube;Discord;Pinterest' 'Discord'\n",
            " 'Facebook;Instagram;YouTube;Discord;Reddit;Pinterest' 'Facebook;Discord'\n",
            " 'Facebook;TikTok'\n",
            " 'Facebook;Twitter;Instagram;YouTube;Snapchat;Discord;Reddit;TikTok'\n",
            " 'Instagram;YouTube;Discord;Pinterest' 'Facebook;YouTube;Snapchat;Discord'\n",
            " 'Facebook;Twitter;Instagram;YouTube;Discord;Reddit;Pinterest'\n",
            " 'Facebook;Instagram;YouTube;Snapchat;Reddit;Pinterest;TikTok'\n",
            " 'Facebook;Instagram;Snapchat;Pinterest;TikTok'\n",
            " 'Facebook;Twitter;Instagram;YouTube;Reddit;Pinterest'\n",
            " 'Facebook;Twitter;Instagram;Snapchat;Reddit' 'YouTube;Discord'\n",
            " 'Facebook;Instagram;YouTube;Snapchat;Discord;Reddit;TikTok'\n",
            " 'Twitter;Instagram;TikTok'\n",
            " 'Facebook;Instagram;Snapchat;Discord;Pinterest;TikTok'\n",
            " 'YouTube;Pinterest' 'Instagram;YouTube;Discord;Reddit;Pinterest'\n",
            " 'Twitter;Instagram;YouTube;TikTok'\n",
            " 'Facebook;Twitter;Instagram;YouTube;Discord;Pinterest'\n",
            " 'Facebook;Instagram;YouTube;Reddit;Pinterest;TikTok'\n",
            " 'Facebook;Snapchat;Reddit' 'Facebook;Instagram;YouTube;Reddit;Pinterest'\n",
            " 'Facebook;Instagram;YouTube;Reddit;TikTok'\n",
            " 'Facebook;Twitter;YouTube;Pinterest' 'Instagram;Discord'\n",
            " 'Twitter;Instagram;YouTube;Discord;Pinterest'\n",
            " 'Instagram;YouTube;Snapchat;Discord;Reddit;Pinterest;TikTok']\n"
          ]
        }
      ]
    },
    {
      "cell_type": "markdown",
      "source": [
        "###Platforms used\n",
        "The Platforms column contains multiple answers per row. There is use in knowing which platforms, and how many in total are in use, so one-hot coding was done by creating new columns for each platform, assigning a 1 where it was in use, and 0 where it was not"
      ],
      "metadata": {
        "id": "crgDn6y9txUk"
      }
    },
    {
      "cell_type": "code",
      "source": [
        "#code from ChatGPT\n",
        "# List of column names to be checked\n",
        "column_names = ['Discord', 'Facebook', 'Instagram', 'Pinterest', 'Reddit', 'Snapchat', 'TikTok', 'Twitter', 'YouTube']\n",
        "\n",
        "# Create new columns with 0 as the default value\n",
        "for col_name in column_names:\n",
        "    df[col_name] = df['Platforms'].str.contains(col_name, case=False).astype(int)"
      ],
      "metadata": {
        "id": "XX1mxIUWW7Iq"
      },
      "execution_count": 18,
      "outputs": []
    },
    {
      "cell_type": "code",
      "source": [
        "#Double check the new columns work as expected\n",
        "df.head()"
      ],
      "metadata": {
        "colab": {
          "base_uri": "https://localhost:8080/",
          "height": 0
        },
        "id": "Xus6BfYkYBEj",
        "outputId": "91f1bd9c-2f83-4672-fbdc-15dc397c6ab2"
      },
      "execution_count": 19,
      "outputs": [
        {
          "output_type": "execute_result",
          "data": {
            "text/plain": [
              "   Age  Gender Relationship Status          Occupation  \\\n",
              "0   21    Male   In a relationship  University Student   \n",
              "1   21  Female              Single  University Student   \n",
              "2   21  Female              Single  University Student   \n",
              "3   21  Female              Single  University Student   \n",
              "4   21  Female              Single  University Student   \n",
              "\n",
              "                                           Platforms           Hours Online  \\\n",
              "0  Facebook;Twitter;Instagram;YouTube;Discord;Reddit  Between 2 and 3 hours   \n",
              "1  Facebook;Twitter;Instagram;YouTube;Discord;Reddit      More than 5 hours   \n",
              "2               Facebook;Instagram;YouTube;Pinterest  Between 3 and 4 hours   \n",
              "3                                 Facebook;Instagram      More than 5 hours   \n",
              "4                         Facebook;Instagram;YouTube  Between 2 and 3 hours   \n",
              "\n",
              "   ADHD1  ADHD2  Anx1  ADHD3  ...  Dep3  Discord  Facebook  Instagram  \\\n",
              "0      5      3     2      5  ...     5        1         1          1   \n",
              "1      4      3     2      4  ...     5        1         1          1   \n",
              "2      3      2     1      2  ...     5        0         1          1   \n",
              "3      4      2     1      3  ...     2        0         1          1   \n",
              "4      3      5     4      4  ...     1        0         1          1   \n",
              "\n",
              "   Pinterest  Reddit  Snapchat  TikTok  Twitter  YouTube  \n",
              "0          0       1         0       0        1        1  \n",
              "1          0       1         0       0        1        1  \n",
              "2          1       0         0       0        0        1  \n",
              "3          0       0         0       0        0        0  \n",
              "4          0       0         0       0        0        1  \n",
              "\n",
              "[5 rows x 27 columns]"
            ],
            "text/html": [
              "\n",
              "\n",
              "  <div id=\"df-d1deb056-64ad-419d-ba22-82d5f2758fe3\">\n",
              "    <div class=\"colab-df-container\">\n",
              "      <div>\n",
              "<style scoped>\n",
              "    .dataframe tbody tr th:only-of-type {\n",
              "        vertical-align: middle;\n",
              "    }\n",
              "\n",
              "    .dataframe tbody tr th {\n",
              "        vertical-align: top;\n",
              "    }\n",
              "\n",
              "    .dataframe thead th {\n",
              "        text-align: right;\n",
              "    }\n",
              "</style>\n",
              "<table border=\"1\" class=\"dataframe\">\n",
              "  <thead>\n",
              "    <tr style=\"text-align: right;\">\n",
              "      <th></th>\n",
              "      <th>Age</th>\n",
              "      <th>Gender</th>\n",
              "      <th>Relationship Status</th>\n",
              "      <th>Occupation</th>\n",
              "      <th>Platforms</th>\n",
              "      <th>Hours Online</th>\n",
              "      <th>ADHD1</th>\n",
              "      <th>ADHD2</th>\n",
              "      <th>Anx1</th>\n",
              "      <th>ADHD3</th>\n",
              "      <th>...</th>\n",
              "      <th>Dep3</th>\n",
              "      <th>Discord</th>\n",
              "      <th>Facebook</th>\n",
              "      <th>Instagram</th>\n",
              "      <th>Pinterest</th>\n",
              "      <th>Reddit</th>\n",
              "      <th>Snapchat</th>\n",
              "      <th>TikTok</th>\n",
              "      <th>Twitter</th>\n",
              "      <th>YouTube</th>\n",
              "    </tr>\n",
              "  </thead>\n",
              "  <tbody>\n",
              "    <tr>\n",
              "      <th>0</th>\n",
              "      <td>21</td>\n",
              "      <td>Male</td>\n",
              "      <td>In a relationship</td>\n",
              "      <td>University Student</td>\n",
              "      <td>Facebook;Twitter;Instagram;YouTube;Discord;Reddit</td>\n",
              "      <td>Between 2 and 3 hours</td>\n",
              "      <td>5</td>\n",
              "      <td>3</td>\n",
              "      <td>2</td>\n",
              "      <td>5</td>\n",
              "      <td>...</td>\n",
              "      <td>5</td>\n",
              "      <td>1</td>\n",
              "      <td>1</td>\n",
              "      <td>1</td>\n",
              "      <td>0</td>\n",
              "      <td>1</td>\n",
              "      <td>0</td>\n",
              "      <td>0</td>\n",
              "      <td>1</td>\n",
              "      <td>1</td>\n",
              "    </tr>\n",
              "    <tr>\n",
              "      <th>1</th>\n",
              "      <td>21</td>\n",
              "      <td>Female</td>\n",
              "      <td>Single</td>\n",
              "      <td>University Student</td>\n",
              "      <td>Facebook;Twitter;Instagram;YouTube;Discord;Reddit</td>\n",
              "      <td>More than 5 hours</td>\n",
              "      <td>4</td>\n",
              "      <td>3</td>\n",
              "      <td>2</td>\n",
              "      <td>4</td>\n",
              "      <td>...</td>\n",
              "      <td>5</td>\n",
              "      <td>1</td>\n",
              "      <td>1</td>\n",
              "      <td>1</td>\n",
              "      <td>0</td>\n",
              "      <td>1</td>\n",
              "      <td>0</td>\n",
              "      <td>0</td>\n",
              "      <td>1</td>\n",
              "      <td>1</td>\n",
              "    </tr>\n",
              "    <tr>\n",
              "      <th>2</th>\n",
              "      <td>21</td>\n",
              "      <td>Female</td>\n",
              "      <td>Single</td>\n",
              "      <td>University Student</td>\n",
              "      <td>Facebook;Instagram;YouTube;Pinterest</td>\n",
              "      <td>Between 3 and 4 hours</td>\n",
              "      <td>3</td>\n",
              "      <td>2</td>\n",
              "      <td>1</td>\n",
              "      <td>2</td>\n",
              "      <td>...</td>\n",
              "      <td>5</td>\n",
              "      <td>0</td>\n",
              "      <td>1</td>\n",
              "      <td>1</td>\n",
              "      <td>1</td>\n",
              "      <td>0</td>\n",
              "      <td>0</td>\n",
              "      <td>0</td>\n",
              "      <td>0</td>\n",
              "      <td>1</td>\n",
              "    </tr>\n",
              "    <tr>\n",
              "      <th>3</th>\n",
              "      <td>21</td>\n",
              "      <td>Female</td>\n",
              "      <td>Single</td>\n",
              "      <td>University Student</td>\n",
              "      <td>Facebook;Instagram</td>\n",
              "      <td>More than 5 hours</td>\n",
              "      <td>4</td>\n",
              "      <td>2</td>\n",
              "      <td>1</td>\n",
              "      <td>3</td>\n",
              "      <td>...</td>\n",
              "      <td>2</td>\n",
              "      <td>0</td>\n",
              "      <td>1</td>\n",
              "      <td>1</td>\n",
              "      <td>0</td>\n",
              "      <td>0</td>\n",
              "      <td>0</td>\n",
              "      <td>0</td>\n",
              "      <td>0</td>\n",
              "      <td>0</td>\n",
              "    </tr>\n",
              "    <tr>\n",
              "      <th>4</th>\n",
              "      <td>21</td>\n",
              "      <td>Female</td>\n",
              "      <td>Single</td>\n",
              "      <td>University Student</td>\n",
              "      <td>Facebook;Instagram;YouTube</td>\n",
              "      <td>Between 2 and 3 hours</td>\n",
              "      <td>3</td>\n",
              "      <td>5</td>\n",
              "      <td>4</td>\n",
              "      <td>4</td>\n",
              "      <td>...</td>\n",
              "      <td>1</td>\n",
              "      <td>0</td>\n",
              "      <td>1</td>\n",
              "      <td>1</td>\n",
              "      <td>0</td>\n",
              "      <td>0</td>\n",
              "      <td>0</td>\n",
              "      <td>0</td>\n",
              "      <td>0</td>\n",
              "      <td>1</td>\n",
              "    </tr>\n",
              "  </tbody>\n",
              "</table>\n",
              "<p>5 rows × 27 columns</p>\n",
              "</div>\n",
              "      <button class=\"colab-df-convert\" onclick=\"convertToInteractive('df-d1deb056-64ad-419d-ba22-82d5f2758fe3')\"\n",
              "              title=\"Convert this dataframe to an interactive table.\"\n",
              "              style=\"display:none;\">\n",
              "\n",
              "  <svg xmlns=\"http://www.w3.org/2000/svg\" height=\"24px\"viewBox=\"0 0 24 24\"\n",
              "       width=\"24px\">\n",
              "    <path d=\"M0 0h24v24H0V0z\" fill=\"none\"/>\n",
              "    <path d=\"M18.56 5.44l.94 2.06.94-2.06 2.06-.94-2.06-.94-.94-2.06-.94 2.06-2.06.94zm-11 1L8.5 8.5l.94-2.06 2.06-.94-2.06-.94L8.5 2.5l-.94 2.06-2.06.94zm10 10l.94 2.06.94-2.06 2.06-.94-2.06-.94-.94-2.06-.94 2.06-2.06.94z\"/><path d=\"M17.41 7.96l-1.37-1.37c-.4-.4-.92-.59-1.43-.59-.52 0-1.04.2-1.43.59L10.3 9.45l-7.72 7.72c-.78.78-.78 2.05 0 2.83L4 21.41c.39.39.9.59 1.41.59.51 0 1.02-.2 1.41-.59l7.78-7.78 2.81-2.81c.8-.78.8-2.07 0-2.86zM5.41 20L4 18.59l7.72-7.72 1.47 1.35L5.41 20z\"/>\n",
              "  </svg>\n",
              "      </button>\n",
              "\n",
              "\n",
              "\n",
              "    <div id=\"df-cd4d2b9f-071b-430e-bef7-e917cc248f35\">\n",
              "      <button class=\"colab-df-quickchart\" onclick=\"quickchart('df-cd4d2b9f-071b-430e-bef7-e917cc248f35')\"\n",
              "              title=\"Suggest charts.\"\n",
              "              style=\"display:none;\">\n",
              "\n",
              "<svg xmlns=\"http://www.w3.org/2000/svg\" height=\"24px\"viewBox=\"0 0 24 24\"\n",
              "     width=\"24px\">\n",
              "    <g>\n",
              "        <path d=\"M19 3H5c-1.1 0-2 .9-2 2v14c0 1.1.9 2 2 2h14c1.1 0 2-.9 2-2V5c0-1.1-.9-2-2-2zM9 17H7v-7h2v7zm4 0h-2V7h2v10zm4 0h-2v-4h2v4z\"/>\n",
              "    </g>\n",
              "</svg>\n",
              "      </button>\n",
              "    </div>\n",
              "\n",
              "<style>\n",
              "  .colab-df-quickchart {\n",
              "    background-color: #E8F0FE;\n",
              "    border: none;\n",
              "    border-radius: 50%;\n",
              "    cursor: pointer;\n",
              "    display: none;\n",
              "    fill: #1967D2;\n",
              "    height: 32px;\n",
              "    padding: 0 0 0 0;\n",
              "    width: 32px;\n",
              "  }\n",
              "\n",
              "  .colab-df-quickchart:hover {\n",
              "    background-color: #E2EBFA;\n",
              "    box-shadow: 0px 1px 2px rgba(60, 64, 67, 0.3), 0px 1px 3px 1px rgba(60, 64, 67, 0.15);\n",
              "    fill: #174EA6;\n",
              "  }\n",
              "\n",
              "  [theme=dark] .colab-df-quickchart {\n",
              "    background-color: #3B4455;\n",
              "    fill: #D2E3FC;\n",
              "  }\n",
              "\n",
              "  [theme=dark] .colab-df-quickchart:hover {\n",
              "    background-color: #434B5C;\n",
              "    box-shadow: 0px 1px 3px 1px rgba(0, 0, 0, 0.15);\n",
              "    filter: drop-shadow(0px 1px 2px rgba(0, 0, 0, 0.3));\n",
              "    fill: #FFFFFF;\n",
              "  }\n",
              "</style>\n",
              "\n",
              "    <script>\n",
              "      async function quickchart(key) {\n",
              "        const containerElement = document.querySelector('#' + key);\n",
              "        const charts = await google.colab.kernel.invokeFunction(\n",
              "            'suggestCharts', [key], {});\n",
              "      }\n",
              "    </script>\n",
              "\n",
              "      <script>\n",
              "\n",
              "function displayQuickchartButton(domScope) {\n",
              "  let quickchartButtonEl =\n",
              "    domScope.querySelector('#df-cd4d2b9f-071b-430e-bef7-e917cc248f35 button.colab-df-quickchart');\n",
              "  quickchartButtonEl.style.display =\n",
              "    google.colab.kernel.accessAllowed ? 'block' : 'none';\n",
              "}\n",
              "\n",
              "        displayQuickchartButton(document);\n",
              "      </script>\n",
              "      <style>\n",
              "    .colab-df-container {\n",
              "      display:flex;\n",
              "      flex-wrap:wrap;\n",
              "      gap: 12px;\n",
              "    }\n",
              "\n",
              "    .colab-df-convert {\n",
              "      background-color: #E8F0FE;\n",
              "      border: none;\n",
              "      border-radius: 50%;\n",
              "      cursor: pointer;\n",
              "      display: none;\n",
              "      fill: #1967D2;\n",
              "      height: 32px;\n",
              "      padding: 0 0 0 0;\n",
              "      width: 32px;\n",
              "    }\n",
              "\n",
              "    .colab-df-convert:hover {\n",
              "      background-color: #E2EBFA;\n",
              "      box-shadow: 0px 1px 2px rgba(60, 64, 67, 0.3), 0px 1px 3px 1px rgba(60, 64, 67, 0.15);\n",
              "      fill: #174EA6;\n",
              "    }\n",
              "\n",
              "    [theme=dark] .colab-df-convert {\n",
              "      background-color: #3B4455;\n",
              "      fill: #D2E3FC;\n",
              "    }\n",
              "\n",
              "    [theme=dark] .colab-df-convert:hover {\n",
              "      background-color: #434B5C;\n",
              "      box-shadow: 0px 1px 3px 1px rgba(0, 0, 0, 0.15);\n",
              "      filter: drop-shadow(0px 1px 2px rgba(0, 0, 0, 0.3));\n",
              "      fill: #FFFFFF;\n",
              "    }\n",
              "  </style>\n",
              "\n",
              "      <script>\n",
              "        const buttonEl =\n",
              "          document.querySelector('#df-d1deb056-64ad-419d-ba22-82d5f2758fe3 button.colab-df-convert');\n",
              "        buttonEl.style.display =\n",
              "          google.colab.kernel.accessAllowed ? 'block' : 'none';\n",
              "\n",
              "        async function convertToInteractive(key) {\n",
              "          const element = document.querySelector('#df-d1deb056-64ad-419d-ba22-82d5f2758fe3');\n",
              "          const dataTable =\n",
              "            await google.colab.kernel.invokeFunction('convertToInteractive',\n",
              "                                                     [key], {});\n",
              "          if (!dataTable) return;\n",
              "\n",
              "          const docLinkHtml = 'Like what you see? Visit the ' +\n",
              "            '<a target=\"_blank\" href=https://colab.research.google.com/notebooks/data_table.ipynb>data table notebook</a>'\n",
              "            + ' to learn more about interactive tables.';\n",
              "          element.innerHTML = '';\n",
              "          dataTable['output_type'] = 'display_data';\n",
              "          await google.colab.output.renderOutput(dataTable, element);\n",
              "          const docLink = document.createElement('div');\n",
              "          docLink.innerHTML = docLinkHtml;\n",
              "          element.appendChild(docLink);\n",
              "        }\n",
              "      </script>\n",
              "    </div>\n",
              "  </div>\n"
            ]
          },
          "metadata": {},
          "execution_count": 19
        }
      ]
    },
    {
      "cell_type": "code",
      "source": [
        "#Drop the Platforms column as no longer needed\n",
        "df.drop('Platforms', axis=1, inplace=True)"
      ],
      "metadata": {
        "id": "uhaJUkNxYIMh"
      },
      "execution_count": 20,
      "outputs": []
    },
    {
      "cell_type": "code",
      "source": [
        "#Get a sum of the number of platforms used\n",
        "df[\"Total Platforms\"] = df.Discord + df.Facebook + df.Instagram + df.Pinterest + df.Reddit + df.Snapchat + df.TikTok + df.Twitter + df.YouTube"
      ],
      "metadata": {
        "id": "gwrgCpiiYS4b"
      },
      "execution_count": 21,
      "outputs": []
    },
    {
      "cell_type": "code",
      "source": [
        "#Reorder columns, code from ChatGPT\n",
        "desired_order = [\n",
        "    'Age',\n",
        "    'Gender',\n",
        "    'Relationship Status',\n",
        "    'Occupation',\n",
        "    'Discord',\n",
        "    'Facebook',\n",
        "    'Instagram',\n",
        "    'Pinterest',\n",
        "    'Reddit',\n",
        "    'Snapchat',\n",
        "    'TikTok',\n",
        "    'Twitter',\n",
        "    'Snapchat',\n",
        "    'YouTube',\n",
        "    'Total Platforms',\n",
        "    'Hours Online',\n",
        "    'ADHD1',\n",
        "    'ADHD2',\n",
        "    'ADHD3',\n",
        "    'ADHD4',\n",
        "    'Anx1',\n",
        "    'Anx2',\n",
        "    'SE1',\n",
        "    'SE2',\n",
        "    'SE3',\n",
        "    'Dep1',\n",
        "    'Dep2',\n",
        "    'Dep3'\n",
        "]\n",
        "\n",
        "# Use reindex to rearrange the columns based on the desired_order\n",
        "df = df.reindex(columns=desired_order)"
      ],
      "metadata": {
        "id": "-7lteAnPZf9_"
      },
      "execution_count": 22,
      "outputs": []
    },
    {
      "cell_type": "code",
      "source": [
        "#Check answers to hours online\n",
        "print(df['Hours Online'].unique())"
      ],
      "metadata": {
        "colab": {
          "base_uri": "https://localhost:8080/"
        },
        "id": "1Otimwu8aKMw",
        "outputId": "d9a56e42-f310-4d74-f6e8-ddab541a65bf"
      },
      "execution_count": 23,
      "outputs": [
        {
          "output_type": "stream",
          "name": "stdout",
          "text": [
            "['Between 2 and 3 hours' 'More than 5 hours' 'Between 3 and 4 hours'\n",
            " 'Less than an Hour' 'Between 1 and 2 hours' 'Between 4 and 5 hours']\n"
          ]
        }
      ]
    },
    {
      "cell_type": "markdown",
      "source": [
        "###Hours Spent Online\n",
        "The answers to how many hours are spent online was converted to a number to indicate scale, using the midpoint number. 0.5 was assigned to \"Less than an hour\" as it does not necessarily mean no time is spent online"
      ],
      "metadata": {
        "id": "r6crzc6XuT13"
      }
    },
    {
      "cell_type": "code",
      "source": [
        "#Use midpoint of \"between x and y\" as total hours number\n",
        "df['Hours Online'] = df['Hours Online'].replace('Less than an Hour',0.5)\n",
        "df['Hours Online'] = df['Hours Online'].replace('Between 1 and 2 hours',1.5)\n",
        "df['Hours Online'] = df['Hours Online'].replace('Between 2 and 3 hours',2.5)\n",
        "df['Hours Online'] = df['Hours Online'].replace('Between 3 and 4 hours',3.5)\n",
        "df['Hours Online'] = df['Hours Online'].replace('Between 4 and 5 hours',4.5)\n",
        "df['Hours Online'] = df['Hours Online'].replace('More than 5 hours',5.5)\n",
        "df.info()"
      ],
      "metadata": {
        "colab": {
          "base_uri": "https://localhost:8080/"
        },
        "id": "zqAbS5Wga4Z5",
        "outputId": "c67aa47d-0659-4b0f-bf83-9ec547035cde"
      },
      "execution_count": 24,
      "outputs": [
        {
          "output_type": "stream",
          "name": "stdout",
          "text": [
            "<class 'pandas.core.frame.DataFrame'>\n",
            "Int64Index: 473 entries, 0 to 473\n",
            "Data columns (total 28 columns):\n",
            " #   Column               Non-Null Count  Dtype  \n",
            "---  ------               --------------  -----  \n",
            " 0   Age                  473 non-null    int64  \n",
            " 1   Gender               473 non-null    object \n",
            " 2   Relationship Status  473 non-null    object \n",
            " 3   Occupation           473 non-null    object \n",
            " 4   Discord              473 non-null    int64  \n",
            " 5   Facebook             473 non-null    int64  \n",
            " 6   Instagram            473 non-null    int64  \n",
            " 7   Pinterest            473 non-null    int64  \n",
            " 8   Reddit               473 non-null    int64  \n",
            " 9   Snapchat             473 non-null    int64  \n",
            " 10  TikTok               473 non-null    int64  \n",
            " 11  Twitter              473 non-null    int64  \n",
            " 12  Snapchat             473 non-null    int64  \n",
            " 13  YouTube              473 non-null    int64  \n",
            " 14  Total Platforms      473 non-null    int64  \n",
            " 15  Hours Online         473 non-null    float64\n",
            " 16  ADHD1                473 non-null    int64  \n",
            " 17  ADHD2                473 non-null    int64  \n",
            " 18  ADHD3                473 non-null    int64  \n",
            " 19  ADHD4                473 non-null    int64  \n",
            " 20  Anx1                 473 non-null    int64  \n",
            " 21  Anx2                 473 non-null    int64  \n",
            " 22  SE1                  473 non-null    int64  \n",
            " 23  SE2                  473 non-null    int64  \n",
            " 24  SE3                  473 non-null    int64  \n",
            " 25  Dep1                 473 non-null    int64  \n",
            " 26  Dep2                 473 non-null    int64  \n",
            " 27  Dep3                 473 non-null    int64  \n",
            "dtypes: float64(1), int64(24), object(3)\n",
            "memory usage: 107.2+ KB\n"
          ]
        }
      ]
    },
    {
      "cell_type": "markdown",
      "source": [
        "# Exploratory Data Analysis"
      ],
      "metadata": {
        "id": "3lkqNOGHkpi7"
      }
    },
    {
      "cell_type": "markdown",
      "source": [
        "##Exploring number of respondents by age, gender, and occupation"
      ],
      "metadata": {
        "id": "kr-b2g6qvpkB"
      }
    },
    {
      "cell_type": "code",
      "source": [
        "#Age range\n",
        "print(min(df.Age))\n",
        "print(max(df.Age))"
      ],
      "metadata": {
        "colab": {
          "base_uri": "https://localhost:8080/"
        },
        "id": "rOMgPRqDvyCb",
        "outputId": "c5fabf6b-4103-4d0c-e983-8d2df1c7ed63"
      },
      "execution_count": 25,
      "outputs": [
        {
          "output_type": "stream",
          "name": "stdout",
          "text": [
            "13\n",
            "91\n"
          ]
        }
      ]
    },
    {
      "cell_type": "code",
      "source": [
        "df.Age.hist(bins=[10,15,20,25,30,35,40,45,50,55,60,65,70,75,80,85,90,95])\n",
        "plt.xlabel('Age')\n",
        "plt.ylabel('Frequency')\n",
        "plt.title('Distribution of Age')\n",
        "plt.show()"
      ],
      "metadata": {
        "colab": {
          "base_uri": "https://localhost:8080/",
          "height": 472
        },
        "id": "5oHYmP9FxNTY",
        "outputId": "aada608f-d67c-4861-b10a-b8d9e67bea74"
      },
      "execution_count": 26,
      "outputs": [
        {
          "output_type": "display_data",
          "data": {
            "text/plain": [
              "<Figure size 640x480 with 1 Axes>"
            ],
            "image/png": "[encoded data removed]"
          },
          "metadata": {}
        }
      ]
    },
    {
      "cell_type": "markdown",
      "source": [
        "The data is skewed young, with most respondents being between 20 and 25 years old"
      ],
      "metadata": {
        "id": "wRZr4kTsyhvM"
      }
    },
    {
      "cell_type": "code",
      "source": [
        "# Map colors to the gender categories\n",
        "colour_map = {\n",
        "    'Male': 'springgreen',\n",
        "    'Female': 'blueviolet',\n",
        "    'Other': 'yellow'\n",
        "}\n",
        "\n",
        "categories = df['Gender'].value_counts().index\n",
        "counts = df['Gender'].value_counts().values\n",
        "\n",
        "plt.xlabel('Gender Identity')\n",
        "plt.ylabel('Frequency')\n",
        "plt.title('Distribution of Gender Identity')\n",
        "plt.bar(categories, counts, color=[colour_map.get(c) for c in categories])\n",
        "plt.show()"
      ],
      "metadata": {
        "colab": {
          "base_uri": "https://localhost:8080/",
          "height": 472
        },
        "id": "YqFsfTRv4NzP",
        "outputId": "5c62566a-c97a-4b9f-fb24-521e8f0f6dfe"
      },
      "execution_count": 27,
      "outputs": [
        {
          "output_type": "display_data",
          "data": {
            "text/plain": [
              "<Figure size 640x480 with 1 Axes>"
            ],
            "image/png": "[encoded data removed]"
          },
          "metadata": {}
        }
      ]
    },
    {
      "cell_type": "markdown",
      "source": [
        "Most respondents answered female"
      ],
      "metadata": {
        "id": "4TuV9NZs5pWn"
      }
    },
    {
      "cell_type": "code",
      "source": [
        "# Define age bins\n",
        "bins = [10, 15, 20, 25, 30, 35, 40, 45, 50, 55, 60, 65, 70, 75, 80, 85, 90, 95]\n",
        "\n",
        "# Map colors to the gender categories\n",
        "colour_map = {\n",
        "    'Male': 'springgreen',\n",
        "    'Female': 'blueviolet',\n",
        "    'Other': 'yellow'\n",
        "}\n",
        "\n",
        "# Group the data by 'Age' and 'Gender' using the age bins directly in the 'groupby' operation\n",
        "grouped_data = df.groupby([pd.cut(df['Age'], bins), 'Gender']).size().unstack()\n",
        "fig, ax = plt.subplots(figsize=(10, 6))\n",
        "\n",
        "grouped_data.plot(kind='bar', stacked=True, ax=ax, color=[colour_map.get(c) for c in grouped_data.columns])\n",
        "ax.set_xlabel('Age')\n",
        "ax.set_ylabel('Count')\n",
        "ax.set_title('Distribution of Age and Gender')\n",
        "plt.show()"
      ],
      "metadata": {
        "colab": {
          "base_uri": "https://localhost:8080/",
          "height": 605
        },
        "id": "kMmsCzyT5yMR",
        "outputId": "a04260b7-c5f6-4b44-90e0-d00988a5f103"
      },
      "execution_count": 28,
      "outputs": [
        {
          "output_type": "display_data",
          "data": {
            "text/plain": [
              "<Figure size 1000x600 with 1 Axes>"
            ],
            "image/png": "[encoded data removed]"
          },
          "metadata": {}
        }
      ]
    },
    {
      "cell_type": "markdown",
      "source": [
        "Where there is a split of genders female outnumbers male in all age bins, aside from ages 10-15, and 40-50. Those that responded \"Other\" primarily fall into ages 15-25, and one falling in the 65-70 age category."
      ],
      "metadata": {
        "id": "9dJLpi9CDtcq"
      }
    },
    {
      "cell_type": "code",
      "source": [
        "#Explore occupation options\n",
        "print(df.Occupation.unique())"
      ],
      "metadata": {
        "colab": {
          "base_uri": "https://localhost:8080/"
        },
        "id": "f7DjLmPQUk4Q",
        "outputId": "0914a063-6567-4966-f32b-f83332a3bce7"
      },
      "execution_count": 29,
      "outputs": [
        {
          "output_type": "stream",
          "name": "stdout",
          "text": [
            "['University Student' 'School Student' 'Salaried Worker' 'Retired']\n"
          ]
        }
      ]
    },
    {
      "cell_type": "code",
      "source": [
        "#Plot occupation histogram\n",
        "# Map colors to the occupation categories\n",
        "colour_map = {\n",
        "    'University Student': 'blue',\n",
        "    'School Student': 'red',\n",
        "    'Salaried Worker': 'grey',\n",
        "    'Retired' : 'orange'\n",
        "}\n",
        "\n",
        "categories = df['Occupation'].value_counts().index\n",
        "counts = df['Occupation'].value_counts().values\n",
        "\n",
        "plt.xlabel('Occupation')\n",
        "plt.ylabel('Frequency')\n",
        "plt.title('Distribution of Occupation')\n",
        "plt.bar(categories, counts, color=[colour_map.get(c) for c in categories])\n",
        "plt.show()"
      ],
      "metadata": {
        "colab": {
          "base_uri": "https://localhost:8080/",
          "height": 472
        },
        "id": "Ru1NY_BBVDG7",
        "outputId": "643f6906-f220-46af-9cae-ee6f650e9268"
      },
      "execution_count": 33,
      "outputs": [
        {
          "output_type": "display_data",
          "data": {
            "text/plain": [
              "<Figure size 640x480 with 1 Axes>"
            ],
            "image/png": "[encoded data removed]"
          },
          "metadata": {}
        }
      ]
    },
    {
      "cell_type": "markdown",
      "source": [
        "Most respondents are University students, making up more than half of the data points"
      ],
      "metadata": {
        "id": "fDhTrNiUWtZe"
      }
    },
    {
      "cell_type": "code",
      "source": [
        "# Occupation by gender\n",
        "# Map colors to the gender categories\n",
        "colour_map = {\n",
        "    'Male': 'springgreen',\n",
        "    'Female': 'blueviolet',\n",
        "    'Other': 'yellow'\n",
        "}\n",
        "\n",
        "# Group the data by 'Occupation' and 'Gender', and calculate the count of each combination\n",
        "grouped_data = df.groupby(['Occupation', 'Gender']).size().unstack()\n",
        "\n",
        "# Calculate the total count of each occupation and sort the rows based on the count in descending order\n",
        "grouped_data['Total'] = grouped_data.sum(axis=1)\n",
        "grouped_data = grouped_data.sort_values(by='Total', ascending=False)\n",
        "\n",
        "# Remove the 'Total' column as it's only needed for sorting\n",
        "grouped_data.drop(columns='Total', inplace=True)\n",
        "\n",
        "fig, ax = plt.subplots(figsize=(10, 6))\n",
        "grouped_data.plot(kind='bar', stacked=True, ax=ax, color=[colour_map.get(c) for c in grouped_data.columns])\n",
        "ax.set_xlabel('Occupation')\n",
        "ax.set_ylabel('Count')\n",
        "ax.set_title('Distribution of Occupation and Gender (Sorted by Occupation Count)')\n",
        "plt.show()"
      ],
      "metadata": {
        "colab": {
          "base_uri": "https://localhost:8080/",
          "height": 679
        },
        "id": "e0fjH3W-WsSx",
        "outputId": "d31a24dc-b9a3-471c-b33f-e096cb707d5d"
      },
      "execution_count": 38,
      "outputs": [
        {
          "output_type": "display_data",
          "data": {
            "text/plain": [
              "<Figure size 1000x600 with 1 Axes>"
            ],
            "image/png": "[encoded data removed]"
          },
          "metadata": {}
        }
      ]
    },
    {
      "cell_type": "code",
      "source": [
        "# Define age bins\n",
        "bins = [10, 15, 20, 25, 30, 35, 40, 45, 50, 55, 60, 65, 70, 75, 80, 85, 90, 95]\n",
        "\n",
        "colour_map = {\n",
        "    'University Student': 'blue',\n",
        "    'School Student': 'red',\n",
        "    'Salaried Worker': 'grey',\n",
        "    'Retired' : 'orange'\n",
        "}\n",
        "\n",
        "# Group the data by 'Age' and 'Gender' using the age bins directly in the 'groupby' operation\n",
        "grouped_data = df.groupby([pd.cut(df['Age'], bins), 'Occupation']).size().unstack()\n",
        "fig, ax = plt.subplots(figsize=(10, 6))\n",
        "\n",
        "grouped_data.plot(kind='bar', stacked=True, ax=ax, color=[colour_map.get(c) for c in grouped_data.columns])\n",
        "ax.set_xlabel('Age')\n",
        "ax.set_ylabel('Count')\n",
        "ax.set_title('Distribution of Age and Occupation')\n",
        "plt.show()"
      ],
      "metadata": {
        "colab": {
          "base_uri": "https://localhost:8080/",
          "height": 605
        },
        "id": "URG9lJrlYjre",
        "outputId": "3091b438-aeab-4227-efde-88993a3890df"
      },
      "execution_count": 37,
      "outputs": [
        {
          "output_type": "display_data",
          "data": {
            "text/plain": [
              "<Figure size 1000x600 with 1 Axes>"
            ],
            "image/png": "[encoded data removed]"
          },
          "metadata": {}
        }
      ]
    },
    {
      "cell_type": "markdown",
      "source": [
        "##Platforms used and hours spent online"
      ],
      "metadata": {
        "id": "l_FM7Pz8ZKuW"
      }
    }
  ]
}